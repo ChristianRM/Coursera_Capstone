{
 "cells": [
  {
   "cell_type": "markdown",
   "metadata": {},
   "source": [
    "# Accident Severity Notebook"
   ]
  },
  {
   "cell_type": "markdown",
   "metadata": {},
   "source": [
    "## Setup"
   ]
  },
  {
   "cell_type": "code",
   "execution_count": 1,
   "metadata": {},
   "outputs": [],
   "source": [
    "import pandas as pd\n",
    "import numpy as np\n",
    "import matplotlib.pyplot as plt\n",
    "import seaborn as sns\n",
    "import datetime as dt\n",
    "from sklearn import preprocessing\n",
    "from sklearn.neighbors import KNeighborsClassifier\n",
    "from sklearn.metrics import jaccard_score\n",
    "from sklearn.metrics import f1_score\n",
    "from sklearn.tree import DecisionTreeClassifier\n",
    "from sklearn import svm\n",
    "from sklearn.linear_model import LogisticRegression\n",
    "from sklearn.metrics import log_loss\n",
    "from sklearn.model_selection import train_test_split\n",
    "\n",
    "\n",
    "%matplotlib inline\n",
    "\n",
    "pd.set_option('display.max_columns', None)"
   ]
  },
  {
   "cell_type": "markdown",
   "metadata": {},
   "source": [
    "## Loading data"
   ]
  },
  {
   "cell_type": "code",
   "execution_count": 2,
   "metadata": {},
   "outputs": [
    {
     "name": "stderr",
     "output_type": "stream",
     "text": [
      "C:\\Users\\Chris\\anaconda3\\lib\\site-packages\\IPython\\core\\interactiveshell.py:3071: DtypeWarning: Columns (35) have mixed types.Specify dtype option on import or set low_memory=False.\n",
      "  has_raised = await self.run_ast_nodes(code_ast.body, cell_name,\n"
     ]
    },
    {
     "data": {
      "text/html": [
       "<div>\n",
       "<style scoped>\n",
       "    .dataframe tbody tr th:only-of-type {\n",
       "        vertical-align: middle;\n",
       "    }\n",
       "\n",
       "    .dataframe tbody tr th {\n",
       "        vertical-align: top;\n",
       "    }\n",
       "\n",
       "    .dataframe thead th {\n",
       "        text-align: right;\n",
       "    }\n",
       "</style>\n",
       "<table border=\"1\" class=\"dataframe\">\n",
       "  <thead>\n",
       "    <tr style=\"text-align: right;\">\n",
       "      <th></th>\n",
       "      <th>X</th>\n",
       "      <th>Y</th>\n",
       "      <th>OBJECTID</th>\n",
       "      <th>INCKEY</th>\n",
       "      <th>COLDETKEY</th>\n",
       "      <th>REPORTNO</th>\n",
       "      <th>STATUS</th>\n",
       "      <th>ADDRTYPE</th>\n",
       "      <th>INTKEY</th>\n",
       "      <th>LOCATION</th>\n",
       "      <th>EXCEPTRSNCODE</th>\n",
       "      <th>EXCEPTRSNDESC</th>\n",
       "      <th>SEVERITYCODE</th>\n",
       "      <th>SEVERITYDESC</th>\n",
       "      <th>COLLISIONTYPE</th>\n",
       "      <th>PERSONCOUNT</th>\n",
       "      <th>PEDCOUNT</th>\n",
       "      <th>PEDCYLCOUNT</th>\n",
       "      <th>VEHCOUNT</th>\n",
       "      <th>INJURIES</th>\n",
       "      <th>SERIOUSINJURIES</th>\n",
       "      <th>FATALITIES</th>\n",
       "      <th>INCDATE</th>\n",
       "      <th>INCDTTM</th>\n",
       "      <th>JUNCTIONTYPE</th>\n",
       "      <th>SDOT_COLCODE</th>\n",
       "      <th>SDOT_COLDESC</th>\n",
       "      <th>INATTENTIONIND</th>\n",
       "      <th>UNDERINFL</th>\n",
       "      <th>WEATHER</th>\n",
       "      <th>ROADCOND</th>\n",
       "      <th>LIGHTCOND</th>\n",
       "      <th>PEDROWNOTGRNT</th>\n",
       "      <th>SDOTCOLNUM</th>\n",
       "      <th>SPEEDING</th>\n",
       "      <th>ST_COLCODE</th>\n",
       "      <th>ST_COLDESC</th>\n",
       "      <th>SEGLANEKEY</th>\n",
       "      <th>CROSSWALKKEY</th>\n",
       "      <th>HITPARKEDCAR</th>\n",
       "    </tr>\n",
       "  </thead>\n",
       "  <tbody>\n",
       "    <tr>\n",
       "      <th>0</th>\n",
       "      <td>-122.344896</td>\n",
       "      <td>47.717173</td>\n",
       "      <td>1</td>\n",
       "      <td>1003</td>\n",
       "      <td>1003</td>\n",
       "      <td>3503158</td>\n",
       "      <td>Matched</td>\n",
       "      <td>Block</td>\n",
       "      <td>NaN</td>\n",
       "      <td>AURORA AVE N BETWEEN N 117TH PL AND N 125TH ST</td>\n",
       "      <td></td>\n",
       "      <td>NaN</td>\n",
       "      <td>2</td>\n",
       "      <td>Injury Collision</td>\n",
       "      <td>Cycles</td>\n",
       "      <td>2</td>\n",
       "      <td>0</td>\n",
       "      <td>1</td>\n",
       "      <td>1</td>\n",
       "      <td>1</td>\n",
       "      <td>0</td>\n",
       "      <td>0</td>\n",
       "      <td>2013/03/14 00:00:00+00</td>\n",
       "      <td>3/14/2013 5:30:00 PM</td>\n",
       "      <td>Driveway Junction</td>\n",
       "      <td>18.0</td>\n",
       "      <td>MOTOR VEHICLE STRUCK PEDALCYCLIST, FRONT END A...</td>\n",
       "      <td>NaN</td>\n",
       "      <td>N</td>\n",
       "      <td>Clear</td>\n",
       "      <td>Dry</td>\n",
       "      <td>Daylight</td>\n",
       "      <td>Y</td>\n",
       "      <td>NaN</td>\n",
       "      <td>NaN</td>\n",
       "      <td>45</td>\n",
       "      <td>Vehicle - Pedalcyclist</td>\n",
       "      <td>15057</td>\n",
       "      <td>0</td>\n",
       "      <td>N</td>\n",
       "    </tr>\n",
       "    <tr>\n",
       "      <th>1</th>\n",
       "      <td>-122.376467</td>\n",
       "      <td>47.543774</td>\n",
       "      <td>2</td>\n",
       "      <td>56200</td>\n",
       "      <td>56200</td>\n",
       "      <td>1795087</td>\n",
       "      <td>Matched</td>\n",
       "      <td>Block</td>\n",
       "      <td>NaN</td>\n",
       "      <td>35TH AVE SW BETWEEN SW MORGAN ST AND SW HOLLY ST</td>\n",
       "      <td>NaN</td>\n",
       "      <td>NaN</td>\n",
       "      <td>2</td>\n",
       "      <td>Injury Collision</td>\n",
       "      <td>Pedestrian</td>\n",
       "      <td>7</td>\n",
       "      <td>1</td>\n",
       "      <td>0</td>\n",
       "      <td>1</td>\n",
       "      <td>1</td>\n",
       "      <td>0</td>\n",
       "      <td>0</td>\n",
       "      <td>2006/01/15 00:00:00+00</td>\n",
       "      <td>1/15/2006 5:35:00 PM</td>\n",
       "      <td>Mid-Block (not related to intersection)</td>\n",
       "      <td>24.0</td>\n",
       "      <td>MOTOR VEHCILE STRUCK PEDESTRIAN</td>\n",
       "      <td>NaN</td>\n",
       "      <td>0</td>\n",
       "      <td>Overcast</td>\n",
       "      <td>Dry</td>\n",
       "      <td>Dark - Street Lights On</td>\n",
       "      <td>NaN</td>\n",
       "      <td>6015003.0</td>\n",
       "      <td>NaN</td>\n",
       "      <td>0</td>\n",
       "      <td>Vehicle going straight hits pedestrian</td>\n",
       "      <td>0</td>\n",
       "      <td>0</td>\n",
       "      <td>N</td>\n",
       "    </tr>\n",
       "    <tr>\n",
       "      <th>2</th>\n",
       "      <td>-122.360735</td>\n",
       "      <td>47.701487</td>\n",
       "      <td>3</td>\n",
       "      <td>327037</td>\n",
       "      <td>328537</td>\n",
       "      <td>E979380</td>\n",
       "      <td>Matched</td>\n",
       "      <td>Intersection</td>\n",
       "      <td>37122.0</td>\n",
       "      <td>3RD AVE NW AND NW 100TH ST</td>\n",
       "      <td></td>\n",
       "      <td>NaN</td>\n",
       "      <td>1</td>\n",
       "      <td>Property Damage Only Collision</td>\n",
       "      <td>Angles</td>\n",
       "      <td>2</td>\n",
       "      <td>0</td>\n",
       "      <td>0</td>\n",
       "      <td>2</td>\n",
       "      <td>0</td>\n",
       "      <td>0</td>\n",
       "      <td>0</td>\n",
       "      <td>2019/09/09 00:00:00+00</td>\n",
       "      <td>9/9/2019 3:32:00 PM</td>\n",
       "      <td>At Intersection (intersection related)</td>\n",
       "      <td>14.0</td>\n",
       "      <td>MOTOR VEHICLE STRUCK MOTOR VEHICLE, REAR END</td>\n",
       "      <td>NaN</td>\n",
       "      <td>N</td>\n",
       "      <td>Overcast</td>\n",
       "      <td>Wet</td>\n",
       "      <td>Daylight</td>\n",
       "      <td>NaN</td>\n",
       "      <td>NaN</td>\n",
       "      <td>NaN</td>\n",
       "      <td>10</td>\n",
       "      <td>Entering at angle</td>\n",
       "      <td>0</td>\n",
       "      <td>0</td>\n",
       "      <td>N</td>\n",
       "    </tr>\n",
       "    <tr>\n",
       "      <th>3</th>\n",
       "      <td>-122.297415</td>\n",
       "      <td>47.599233</td>\n",
       "      <td>4</td>\n",
       "      <td>327278</td>\n",
       "      <td>328778</td>\n",
       "      <td>E996362</td>\n",
       "      <td>Unmatched</td>\n",
       "      <td>Intersection</td>\n",
       "      <td>30602.0</td>\n",
       "      <td>M L KING JR WAY S AND S JACKSON ST</td>\n",
       "      <td></td>\n",
       "      <td>NaN</td>\n",
       "      <td>1</td>\n",
       "      <td>Property Damage Only Collision</td>\n",
       "      <td>NaN</td>\n",
       "      <td>2</td>\n",
       "      <td>0</td>\n",
       "      <td>0</td>\n",
       "      <td>0</td>\n",
       "      <td>0</td>\n",
       "      <td>0</td>\n",
       "      <td>0</td>\n",
       "      <td>2019/12/19 00:00:00+00</td>\n",
       "      <td>12/19/2019</td>\n",
       "      <td>At Intersection (intersection related)</td>\n",
       "      <td>14.0</td>\n",
       "      <td>MOTOR VEHICLE STRUCK MOTOR VEHICLE, REAR END</td>\n",
       "      <td>NaN</td>\n",
       "      <td>NaN</td>\n",
       "      <td>NaN</td>\n",
       "      <td>NaN</td>\n",
       "      <td>NaN</td>\n",
       "      <td>NaN</td>\n",
       "      <td>NaN</td>\n",
       "      <td>NaN</td>\n",
       "      <td></td>\n",
       "      <td>NaN</td>\n",
       "      <td>0</td>\n",
       "      <td>0</td>\n",
       "      <td>N</td>\n",
       "    </tr>\n",
       "    <tr>\n",
       "      <th>4</th>\n",
       "      <td>-122.368001</td>\n",
       "      <td>47.653585</td>\n",
       "      <td>5</td>\n",
       "      <td>1248</td>\n",
       "      <td>1248</td>\n",
       "      <td>3645424</td>\n",
       "      <td>Unmatched</td>\n",
       "      <td>Block</td>\n",
       "      <td>NaN</td>\n",
       "      <td>W EWING ST BETWEEN 6TH AVE W AND W EWING PL</td>\n",
       "      <td></td>\n",
       "      <td>NaN</td>\n",
       "      <td>0</td>\n",
       "      <td>Unknown</td>\n",
       "      <td>NaN</td>\n",
       "      <td>1</td>\n",
       "      <td>0</td>\n",
       "      <td>0</td>\n",
       "      <td>0</td>\n",
       "      <td>0</td>\n",
       "      <td>0</td>\n",
       "      <td>0</td>\n",
       "      <td>2013/03/27 00:00:00+00</td>\n",
       "      <td>3/27/2013</td>\n",
       "      <td>Mid-Block (not related to intersection)</td>\n",
       "      <td>0.0</td>\n",
       "      <td>NOT ENOUGH INFORMATION / NOT APPLICABLE</td>\n",
       "      <td>NaN</td>\n",
       "      <td>NaN</td>\n",
       "      <td>NaN</td>\n",
       "      <td>NaN</td>\n",
       "      <td>NaN</td>\n",
       "      <td>NaN</td>\n",
       "      <td>NaN</td>\n",
       "      <td>NaN</td>\n",
       "      <td></td>\n",
       "      <td>NaN</td>\n",
       "      <td>0</td>\n",
       "      <td>0</td>\n",
       "      <td>N</td>\n",
       "    </tr>\n",
       "  </tbody>\n",
       "</table>\n",
       "</div>"
      ],
      "text/plain": [
       "            X          Y  OBJECTID  INCKEY  COLDETKEY REPORTNO     STATUS  \\\n",
       "0 -122.344896  47.717173         1    1003       1003  3503158    Matched   \n",
       "1 -122.376467  47.543774         2   56200      56200  1795087    Matched   \n",
       "2 -122.360735  47.701487         3  327037     328537  E979380    Matched   \n",
       "3 -122.297415  47.599233         4  327278     328778  E996362  Unmatched   \n",
       "4 -122.368001  47.653585         5    1248       1248  3645424  Unmatched   \n",
       "\n",
       "       ADDRTYPE   INTKEY                                          LOCATION  \\\n",
       "0         Block      NaN    AURORA AVE N BETWEEN N 117TH PL AND N 125TH ST   \n",
       "1         Block      NaN  35TH AVE SW BETWEEN SW MORGAN ST AND SW HOLLY ST   \n",
       "2  Intersection  37122.0                        3RD AVE NW AND NW 100TH ST   \n",
       "3  Intersection  30602.0                M L KING JR WAY S AND S JACKSON ST   \n",
       "4         Block      NaN       W EWING ST BETWEEN 6TH AVE W AND W EWING PL   \n",
       "\n",
       "  EXCEPTRSNCODE EXCEPTRSNDESC SEVERITYCODE                    SEVERITYDESC  \\\n",
       "0                         NaN            2                Injury Collision   \n",
       "1           NaN           NaN            2                Injury Collision   \n",
       "2                         NaN            1  Property Damage Only Collision   \n",
       "3                         NaN            1  Property Damage Only Collision   \n",
       "4                         NaN            0                         Unknown   \n",
       "\n",
       "  COLLISIONTYPE  PERSONCOUNT  PEDCOUNT  PEDCYLCOUNT  VEHCOUNT  INJURIES  \\\n",
       "0        Cycles            2         0            1         1         1   \n",
       "1    Pedestrian            7         1            0         1         1   \n",
       "2        Angles            2         0            0         2         0   \n",
       "3           NaN            2         0            0         0         0   \n",
       "4           NaN            1         0            0         0         0   \n",
       "\n",
       "   SERIOUSINJURIES  FATALITIES                 INCDATE               INCDTTM  \\\n",
       "0                0           0  2013/03/14 00:00:00+00  3/14/2013 5:30:00 PM   \n",
       "1                0           0  2006/01/15 00:00:00+00  1/15/2006 5:35:00 PM   \n",
       "2                0           0  2019/09/09 00:00:00+00   9/9/2019 3:32:00 PM   \n",
       "3                0           0  2019/12/19 00:00:00+00            12/19/2019   \n",
       "4                0           0  2013/03/27 00:00:00+00             3/27/2013   \n",
       "\n",
       "                              JUNCTIONTYPE  SDOT_COLCODE  \\\n",
       "0                        Driveway Junction          18.0   \n",
       "1  Mid-Block (not related to intersection)          24.0   \n",
       "2   At Intersection (intersection related)          14.0   \n",
       "3   At Intersection (intersection related)          14.0   \n",
       "4  Mid-Block (not related to intersection)           0.0   \n",
       "\n",
       "                                        SDOT_COLDESC INATTENTIONIND UNDERINFL  \\\n",
       "0  MOTOR VEHICLE STRUCK PEDALCYCLIST, FRONT END A...            NaN         N   \n",
       "1                    MOTOR VEHCILE STRUCK PEDESTRIAN            NaN         0   \n",
       "2       MOTOR VEHICLE STRUCK MOTOR VEHICLE, REAR END            NaN         N   \n",
       "3       MOTOR VEHICLE STRUCK MOTOR VEHICLE, REAR END            NaN       NaN   \n",
       "4            NOT ENOUGH INFORMATION / NOT APPLICABLE            NaN       NaN   \n",
       "\n",
       "    WEATHER ROADCOND                LIGHTCOND PEDROWNOTGRNT  SDOTCOLNUM  \\\n",
       "0     Clear      Dry                 Daylight             Y         NaN   \n",
       "1  Overcast      Dry  Dark - Street Lights On           NaN   6015003.0   \n",
       "2  Overcast      Wet                 Daylight           NaN         NaN   \n",
       "3       NaN      NaN                      NaN           NaN         NaN   \n",
       "4       NaN      NaN                      NaN           NaN         NaN   \n",
       "\n",
       "  SPEEDING ST_COLCODE                              ST_COLDESC  SEGLANEKEY  \\\n",
       "0      NaN         45                  Vehicle - Pedalcyclist       15057   \n",
       "1      NaN          0  Vehicle going straight hits pedestrian           0   \n",
       "2      NaN         10                       Entering at angle           0   \n",
       "3      NaN                                                NaN           0   \n",
       "4      NaN                                                NaN           0   \n",
       "\n",
       "   CROSSWALKKEY HITPARKEDCAR  \n",
       "0             0            N  \n",
       "1             0            N  \n",
       "2             0            N  \n",
       "3             0            N  \n",
       "4             0            N  "
      ]
     },
     "execution_count": 2,
     "metadata": {},
     "output_type": "execute_result"
    }
   ],
   "source": [
    "df = pd.read_csv('Collisions.csv')\n",
    "df.head()"
   ]
  },
  {
   "cell_type": "markdown",
   "metadata": {},
   "source": [
    "## Data cleaning\n",
    "Here the columns to be used are selected and null values are dealt with"
   ]
  },
  {
   "cell_type": "code",
   "execution_count": 3,
   "metadata": {},
   "outputs": [
    {
     "data": {
      "text/plain": [
       "X                  0.033743\n",
       "Y                  0.033743\n",
       "OBJECTID           0.000000\n",
       "INCKEY             0.000000\n",
       "COLDETKEY          0.000000\n",
       "REPORTNO           0.000000\n",
       "STATUS             0.000000\n",
       "ADDRTYPE           0.016757\n",
       "INTKEY             0.675269\n",
       "LOCATION           0.020720\n",
       "EXCEPTRSNCODE      0.543519\n",
       "EXCEPTRSNDESC      0.946828\n",
       "SEVERITYCODE       0.000005\n",
       "SEVERITYDESC       0.000000\n",
       "COLLISIONTYPE      0.118781\n",
       "PERSONCOUNT        0.000000\n",
       "PEDCOUNT           0.000000\n",
       "PEDCYLCOUNT        0.000000\n",
       "VEHCOUNT           0.000000\n",
       "INJURIES           0.000000\n",
       "SERIOUSINJURIES    0.000000\n",
       "FATALITIES         0.000000\n",
       "INCDATE            0.000000\n",
       "INCDTTM            0.000000\n",
       "JUNCTIONTYPE       0.054053\n",
       "SDOT_COLCODE       0.000005\n",
       "SDOT_COLDESC       0.000005\n",
       "INATTENTIONIND     0.863726\n",
       "UNDERINFL          0.118691\n",
       "WEATHER            0.119639\n",
       "ROADCOND           0.119273\n",
       "LIGHTCOND          0.120041\n",
       "PEDROWNOTGRNT      0.976549\n",
       "SDOTCOLNUM         0.425776\n",
       "SPEEDING           0.955179\n",
       "ST_COLCODE         0.042492\n",
       "ST_COLDESC         0.118781\n",
       "SEGLANEKEY         0.000000\n",
       "CROSSWALKKEY       0.000000\n",
       "HITPARKEDCAR       0.000000\n",
       "dtype: float64"
      ]
     },
     "execution_count": 3,
     "metadata": {},
     "output_type": "execute_result"
    }
   ],
   "source": [
    "df.isna().sum()/len(df)"
   ]
  },
  {
   "cell_type": "code",
   "execution_count": 4,
   "metadata": {},
   "outputs": [],
   "source": [
    "# Remove time from date time string\n",
    "df['INCDATE']=df['INCDATE'].str[:10]\n",
    "\n",
    "# Add year month and day columns\n",
    "df[['YEAR', 'MONTH','DAY']]=df[\"INCDATE\"].str.split(\"/\", expand=True)\n",
    "\n",
    "# Transform String into DateTime\n",
    "df['INCDATE'] = pd.to_datetime(df['INCDATE'])\n",
    "\n",
    "# Get day of the week\n",
    "# Monday=0, Sunday=6.\n",
    "df['DAYOFWEEK'] = df['INCDATE'].dt.dayofweek"
   ]
  },
  {
   "cell_type": "code",
   "execution_count": 5,
   "metadata": {},
   "outputs": [],
   "source": [
    "# Droping unnecessary columns or with a high number of na\n",
    "dropcol_list = ['OBJECTID', 'X', 'Y', 'INCKEY', 'LOCATION', 'SEVERITYDESC',\n",
    "                'COLDETKEY', 'REPORTNO', 'EXCEPTRSNCODE',\n",
    "                'EXCEPTRSNDESC', 'STATUS', 'INTKEY', 'INCDATE',\n",
    "                'INATTENTIONIND', 'PEDROWNOTGRNT', 'SPEEDING',\n",
    "                'INCDTTM', 'SDOT_COLCODE', 'SDOT_COLDESC', \n",
    "                'SDOTCOLNUM', 'ST_COLCODE', 'ST_COLDESC', \n",
    "                'SEGLANEKEY', 'CROSSWALKKEY']\n",
    "df.drop(dropcol_list, axis=1, inplace = True)"
   ]
  },
  {
   "cell_type": "code",
   "execution_count": 6,
   "metadata": {},
   "outputs": [
    {
     "data": {
      "text/plain": [
       "<matplotlib.axes._subplots.AxesSubplot at 0x27a46a34c10>"
      ]
     },
     "execution_count": 6,
     "metadata": {},
     "output_type": "execute_result"
    },
    {
     "data": {
      "image/png": "[encoded data removed]",
      "text/plain": [
       "<Figure size 432x288 with 1 Axes>"
      ]
     },
     "metadata": {
      "needs_background": "light"
     },
     "output_type": "display_data"
    }
   ],
   "source": [
    "# Number of incidents each year\n",
    "df.groupby('YEAR').size().plot.bar()"
   ]
  },
  {
   "cell_type": "code",
   "execution_count": 7,
   "metadata": {},
   "outputs": [
    {
     "data": {
      "text/plain": [
       "<matplotlib.axes._subplots.AxesSubplot at 0x27a523554f0>"
      ]
     },
     "execution_count": 7,
     "metadata": {},
     "output_type": "execute_result"
    },
    {
     "data": {
      "image/png": "[encoded data removed]",
      "text/plain": [
       "<Figure size 432x288 with 1 Axes>"
      ]
     },
     "metadata": {
      "needs_background": "light"
     },
     "output_type": "display_data"
    }
   ],
   "source": [
    "# Number of incidents by month\n",
    "df.groupby('MONTH').size().plot.bar()"
   ]
  },
  {
   "cell_type": "code",
   "execution_count": 8,
   "metadata": {},
   "outputs": [
    {
     "data": {
      "text/plain": [
       "<matplotlib.axes._subplots.AxesSubplot at 0x27a51eb1e20>"
      ]
     },
     "execution_count": 8,
     "metadata": {},
     "output_type": "execute_result"
    },
    {
     "data": {
      "image/png": "[encoded data removed]",
      "text/plain": [
       "<Figure size 432x288 with 1 Axes>"
      ]
     },
     "metadata": {
      "needs_background": "light"
     },
     "output_type": "display_data"
    }
   ],
   "source": [
    "# Number of incidents by day of the week\n",
    "# Monday=0, Sunday=6.\n",
    "df.groupby('DAYOFWEEK').size().plot.bar()"
   ]
  },
  {
   "cell_type": "code",
   "execution_count": 9,
   "metadata": {},
   "outputs": [
    {
     "data": {
      "text/plain": [
       "<matplotlib.axes._subplots.AxesSubplot at 0x27a51dc6940>"
      ]
     },
     "execution_count": 9,
     "metadata": {},
     "output_type": "execute_result"
    },
    {
     "data": {
      "image/png": "[encoded data removed]",
      "text/plain": [
       "<Figure size 432x288 with 1 Axes>"
      ]
     },
     "metadata": {
      "needs_background": "light"
     },
     "output_type": "display_data"
    }
   ],
   "source": [
    "# Severity Code Distribution\n",
    "df.groupby('SEVERITYCODE').size().plot.bar()"
   ]
  },
  {
   "cell_type": "code",
   "execution_count": 10,
   "metadata": {},
   "outputs": [
    {
     "data": {
      "text/plain": [
       "SEVERITYCODE\n",
       "0      21615\n",
       "1     137671\n",
       "2      58783\n",
       "2b      3105\n",
       "3        350\n",
       "dtype: int64"
      ]
     },
     "execution_count": 10,
     "metadata": {},
     "output_type": "execute_result"
    }
   ],
   "source": [
    "# Severity Code Distribution qty\n",
    "df.groupby('SEVERITYCODE').size()"
   ]
  },
  {
   "cell_type": "code",
   "execution_count": 11,
   "metadata": {},
   "outputs": [
    {
     "data": {
      "text/plain": [
       "ADDRTYPE           0.016757\n",
       "SEVERITYCODE       0.000005\n",
       "COLLISIONTYPE      0.118781\n",
       "PERSONCOUNT        0.000000\n",
       "PEDCOUNT           0.000000\n",
       "PEDCYLCOUNT        0.000000\n",
       "VEHCOUNT           0.000000\n",
       "INJURIES           0.000000\n",
       "SERIOUSINJURIES    0.000000\n",
       "FATALITIES         0.000000\n",
       "JUNCTIONTYPE       0.054053\n",
       "UNDERINFL          0.118691\n",
       "WEATHER            0.119639\n",
       "ROADCOND           0.119273\n",
       "LIGHTCOND          0.120041\n",
       "HITPARKEDCAR       0.000000\n",
       "YEAR               0.000000\n",
       "MONTH              0.000000\n",
       "DAY                0.000000\n",
       "DAYOFWEEK          0.000000\n",
       "dtype: float64"
      ]
     },
     "execution_count": 11,
     "metadata": {},
     "output_type": "execute_result"
    }
   ],
   "source": [
    "df.isna().sum()/len(df)"
   ]
  },
  {
   "cell_type": "code",
   "execution_count": 12,
   "metadata": {},
   "outputs": [
    {
     "name": "stdout",
     "output_type": "stream",
     "text": [
      "--------------------------------------------------\n",
      "ADDRTYPE\n",
      "Alley            0.396344\n",
      "Block           65.454915\n",
      "Intersection    32.473084\n",
      "dtype: float64\n",
      "--------------------------------------------------\n",
      "COLLISIONTYPE\n",
      "Angles        16.058233\n",
      "Cycles         2.677802\n",
      "Head On        0.987699\n",
      "Left Turn      6.371741\n",
      "Other         11.099424\n",
      "Parked Car    21.916714\n",
      "Pedestrian     3.460557\n",
      "Rear Ended    15.660084\n",
      "Right Turn     1.361923\n",
      "Sideswipe      8.527706\n",
      "dtype: float64\n",
      "--------------------------------------------------\n",
      "JUNCTIONTYPE\n",
      "At Intersection (but not related to intersection)     1.127187\n",
      "At Intersection (intersection related)               31.250649\n",
      "Driveway Junction                                     5.189482\n",
      "Mid-Block (but intersection related)                 11.019072\n",
      "Mid-Block (not related to intersection)              45.913102\n",
      "Ramp Junction                                         0.085769\n",
      "Unknown                                               0.009480\n",
      "dtype: float64\n",
      "--------------------------------------------------\n",
      "UNDERINFL\n",
      "0    36.869879\n",
      "1     1.909491\n",
      "N    46.914344\n",
      "Y     2.437197\n",
      "dtype: float64\n",
      "--------------------------------------------------\n",
      "HITPARKEDCAR\n",
      "N    94.568107\n",
      "Y     5.431893\n",
      "dtype: float64\n"
     ]
    }
   ],
   "source": [
    "print('-'*50)\n",
    "print(df.groupby('ADDRTYPE').size() * 100 / len(df))\n",
    "print('-'*50)\n",
    "print(df.groupby('COLLISIONTYPE').size() * 100 / len(df))\n",
    "print('-'*50)\n",
    "print(df.groupby('JUNCTIONTYPE').size() * 100 / len(df))\n",
    "print('-'*50)\n",
    "print(df.groupby('UNDERINFL').size() * 100 / len(df))\n",
    "print('-'*50)\n",
    "print(df.groupby('HITPARKEDCAR').size() * 100 / len(df))"
   ]
  },
  {
   "cell_type": "markdown",
   "metadata": {},
   "source": [
    "### Data Cleaning"
   ]
  },
  {
   "cell_type": "code",
   "execution_count": 13,
   "metadata": {},
   "outputs": [],
   "source": [
    "# Drop NAN rows\n",
    "df.dropna(inplace=True)"
   ]
  },
  {
   "cell_type": "markdown",
   "metadata": {},
   "source": [
    "Turn columns with categorical value"
   ]
  },
  {
   "cell_type": "code",
   "execution_count": 14,
   "metadata": {},
   "outputs": [
    {
     "data": {
      "text/plain": [
       "WEATHER\n",
       "Blowing Sand/Dirt            0.026029\n",
       "Clear                       59.821519\n",
       "Fog/Smog/Smoke               0.299594\n",
       "Other                        0.410613\n",
       "Overcast                    14.878224\n",
       "Partly Cloudy                0.005312\n",
       "Raining                     17.807230\n",
       "Severe Crosswind             0.013811\n",
       "Sleet/Hail/Freezing Rain     0.061087\n",
       "Snowing                      0.474357\n",
       "Unknown                      6.202226\n",
       "dtype: float64"
      ]
     },
     "execution_count": 14,
     "metadata": {},
     "output_type": "execute_result"
    }
   ],
   "source": [
    "df.groupby('WEATHER').size() * 100 / len(df)"
   ]
  },
  {
   "cell_type": "code",
   "execution_count": 15,
   "metadata": {},
   "outputs": [],
   "source": [
    "# The 'unknown' values will count as 'clear'. Reason: 59.8% of weather is clear. Since clear is most frequent, it is most likely to occur\n",
    "# Weather will be divided into good weather and bad weather\n",
    "weather_cat = [\n",
    "    'Blowing Sand/Dirt', \n",
    "    'Blowing Snow',\n",
    "    'Clear',\n",
    "    'Fog/Smog/Smoke',\n",
    "    'Other',\n",
    "    'Overcast',\n",
    "    'Partly Cloudy',\n",
    "    'Raining',\n",
    "    'Severe Crosswind',\n",
    "    'Sleet/Hail/Freezing Rain',\n",
    "    'Snowing',\n",
    "    'Unknown'    \n",
    "]\n",
    "weather_val = [\n",
    "    0,\n",
    "    0,\n",
    "    1,\n",
    "    0,\n",
    "    0,\n",
    "    0,\n",
    "    0,\n",
    "    0,\n",
    "    0,\n",
    "    0,\n",
    "    0,\n",
    "    1\n",
    "]\n",
    "df['WEATHER'] = df['WEATHER'].replace(to_replace=weather_cat, value=weather_val)"
   ]
  },
  {
   "cell_type": "code",
   "execution_count": 16,
   "metadata": {},
   "outputs": [
    {
     "data": {
      "text/plain": [
       "WEATHER\n",
       "0    33.976256\n",
       "1    66.023744\n",
       "dtype: float64"
      ]
     },
     "execution_count": 16,
     "metadata": {},
     "output_type": "execute_result"
    }
   ],
   "source": [
    "df.groupby('WEATHER').size() * 100 / len(df)"
   ]
  },
  {
   "cell_type": "code",
   "execution_count": 17,
   "metadata": {},
   "outputs": [
    {
     "data": {
      "text/plain": [
       "ROADCOND\n",
       "Dry               67.019734\n",
       "Ice                0.637433\n",
       "Oil                0.031872\n",
       "Other              0.067462\n",
       "Sand/Mud/Dirt      0.036652\n",
       "Snow/Slush         0.524820\n",
       "Standing Water     0.058963\n",
       "Unknown            6.149637\n",
       "Wet               25.473427\n",
       "dtype: float64"
      ]
     },
     "execution_count": 17,
     "metadata": {},
     "output_type": "execute_result"
    }
   ],
   "source": [
    "df.groupby('ROADCOND').size() * 100 / len(df)"
   ]
  },
  {
   "cell_type": "code",
   "execution_count": 18,
   "metadata": {},
   "outputs": [],
   "source": [
    "# Same as with weather 'unknown' values will count as 'dry'. Reason: 67% of road condition is dry. Since dry is most frequent, it is most likely to occur\n",
    "# Road condition will be divided into wether or not the road is in optimal condition\n",
    "roadcond_cat = [\n",
    "    'Dry',\n",
    "    'Ice',\n",
    "    'Oil',\n",
    "    'Other',\n",
    "    'Sand/Mud/Dirt',\n",
    "    'Snow/Slush',\n",
    "    'Standing Water',\n",
    "    'Unknown',\n",
    "    'Wet'\n",
    "]\n",
    "roadcond_val = [\n",
    "1,\n",
    "0,\n",
    "0,\n",
    "0,\n",
    "0,\n",
    "0,\n",
    "0,\n",
    "1,\n",
    "0\n",
    "]\n",
    "df['ROADCOND'] = df['ROADCOND'].replace(to_replace=roadcond_cat, value=roadcond_val)"
   ]
  },
  {
   "cell_type": "code",
   "execution_count": 19,
   "metadata": {},
   "outputs": [
    {
     "data": {
      "text/plain": [
       "ROADCOND\n",
       "0    26.830629\n",
       "1    73.169371\n",
       "dtype: float64"
      ]
     },
     "execution_count": 19,
     "metadata": {},
     "output_type": "execute_result"
    }
   ],
   "source": [
    "df.groupby('ROADCOND').size() * 100 / len(df)"
   ]
  },
  {
   "cell_type": "code",
   "execution_count": 20,
   "metadata": {},
   "outputs": [
    {
     "data": {
      "text/plain": [
       "LIGHTCOND\n",
       "Dark - No Street Lights      0.798385\n",
       "Dark - Street Lights Off     0.635840\n",
       "Dark - Street Lights On     26.107673\n",
       "Dark - Unknown Lighting      0.012217\n",
       "Dawn                         1.359326\n",
       "Daylight                    62.231548\n",
       "Dusk                         3.160075\n",
       "Other                        0.115800\n",
       "Unknown                      5.579135\n",
       "dtype: float64"
      ]
     },
     "execution_count": 20,
     "metadata": {},
     "output_type": "execute_result"
    }
   ],
   "source": [
    "df.groupby('LIGHTCOND').size() * 100 / len(df)"
   ]
  },
  {
   "cell_type": "code",
   "execution_count": 21,
   "metadata": {},
   "outputs": [],
   "source": [
    "# In case of light condition 'unknown' values will count as 'daylight'. Reason: 62% of light condition is daylight. Since daylicht is most frequent, it is most likely to occur\n",
    "# Every other category will have a value assigned\n",
    "lightcond_cat = [\n",
    "'Dark - No Street Lights',\n",
    "'Dark - Street Lights Off',\n",
    "'Dark - Street Lights On',\n",
    "'Dark - Unknown Lighting',\n",
    "'Dawn',\n",
    "'Daylight',\n",
    "'Dusk',\n",
    "'Other',\n",
    "'Unknown'\n",
    "]\n",
    "lightcond_val = [\n",
    "0,\n",
    "1,\n",
    "2,\n",
    "3,\n",
    "4,\n",
    "5,\n",
    "6,\n",
    "7,\n",
    "5\n",
    "]\n",
    "df['LIGHTCOND'] = df['LIGHTCOND'].replace(to_replace=lightcond_cat, value=roadcond_val)"
   ]
  },
  {
   "cell_type": "code",
   "execution_count": 22,
   "metadata": {},
   "outputs": [
    {
     "data": {
      "text/plain": [
       "LIGHTCOND\n",
       "0    99.085814\n",
       "1     0.914186\n",
       "dtype: float64"
      ]
     },
     "execution_count": 22,
     "metadata": {},
     "output_type": "execute_result"
    }
   ],
   "source": [
    "df.groupby('LIGHTCOND').size() * 100 / len(df)"
   ]
  },
  {
   "cell_type": "code",
   "execution_count": 23,
   "metadata": {},
   "outputs": [
    {
     "name": "stdout",
     "output_type": "stream",
     "text": [
      "ADDRTYPE           object\n",
      "SEVERITYCODE       object\n",
      "COLLISIONTYPE      object\n",
      "PERSONCOUNT         int64\n",
      "PEDCOUNT            int64\n",
      "PEDCYLCOUNT         int64\n",
      "VEHCOUNT            int64\n",
      "INJURIES            int64\n",
      "SERIOUSINJURIES     int64\n",
      "FATALITIES          int64\n",
      "JUNCTIONTYPE       object\n",
      "UNDERINFL          object\n",
      "WEATHER             int64\n",
      "ROADCOND            int64\n",
      "LIGHTCOND           int64\n",
      "HITPARKEDCAR       object\n",
      "YEAR               object\n",
      "MONTH              object\n",
      "DAY                object\n",
      "DAYOFWEEK           int64\n",
      "dtype: object\n"
     ]
    }
   ],
   "source": [
    "# Checking for the rest of categorical values\n",
    "print(df.dtypes)"
   ]
  },
  {
   "cell_type": "code",
   "execution_count": 24,
   "metadata": {},
   "outputs": [],
   "source": [
    "# SEVERITYCODE categorical values\n",
    "severitycode_cat = ['0', '1', '2', '2b', '3']\n",
    "severitycode_val = [0, 1, 2, 3, 4]\n",
    "\n",
    "# ADDRTYPE categorical values\n",
    "addrtype_cat = ['Alley', 'Block', 'Intersection']\n",
    "addrtype_val = [0, 1, 2]\n",
    "\n",
    "# COLLISIONTYPE categorical values\n",
    "collisiontype_cat = [\n",
    "    'Angles',\n",
    "    'Cycles',\n",
    "    'Head On',\n",
    "    'Left Turn',\n",
    "    'Other',\n",
    "    'Parked Car',\n",
    "    'Pedestrian',\n",
    "    'Rear Ended',\n",
    "    'Right Turn',\n",
    "    'Sideswipe',\n",
    "]\n",
    "collisiontype_val = [\n",
    "    0,\n",
    "    1,\n",
    "    2,\n",
    "    3,\n",
    "    4,\n",
    "    5,\n",
    "    6,\n",
    "    7,\n",
    "    8,\n",
    "    9\n",
    "]\n",
    "\n",
    "\n",
    "# JUNCTIONTYPE categorical values\n",
    "junctiontype_cat = [\n",
    "    'At Intersection (but not related to intersection)',\n",
    "    'At Intersection (intersection related)',\n",
    "    'Driveway Junction',\n",
    "    'Mid-Block (but intersection related)',\n",
    "    'Mid-Block (not related to intersection)',\n",
    "    'Ramp Junction',\n",
    "    'Unknown'\n",
    "]\n",
    "junctiontype_val = [\n",
    "    0,\n",
    "    1,\n",
    "    2,\n",
    "    3,\n",
    "    4,\n",
    "    5,\n",
    "    6\n",
    "]\n",
    "\n",
    "# UNDERINFL categorical values\n",
    "underinfl_cat = [0,1,'N','Y']\n",
    "underinfl_val = [0, 1, 0, 1]\n",
    "\n",
    "# HITPARKEDCAR categorical values\n",
    "hitparkedcar_cat = ['N', 'Y']\n",
    "hitparkedcar_val = [ 0, 1]\n",
    "\n",
    "# SEVERITYCODE\n",
    "df['SEVERITYCODE'] = df['SEVERITYCODE'].replace(to_replace=severitycode_cat, value=severitycode_val)\n",
    "# ADDRTYPE\n",
    "df['ADDRTYPE'] = df['ADDRTYPE'].replace(to_replace=addrtype_cat, value=addrtype_val)\n",
    "# COLLISIONTYPE\n",
    "df['COLLISIONTYPE'] = df['COLLISIONTYPE'].replace(to_replace=collisiontype_cat, value=collisiontype_val)\n",
    "# JUNCTIONTYPE\n",
    "df['JUNCTIONTYPE'] = df['JUNCTIONTYPE'].replace(to_replace=junctiontype_cat, value=junctiontype_val)\n",
    "# UNDERINFL\n",
    "df['UNDERINFL'] = df['UNDERINFL'].replace(to_replace=underinfl_cat, value=underinfl_val).astype(int)\n",
    "# HITPARKEDCAR\n",
    "df['HITPARKEDCAR'] = df['HITPARKEDCAR'].replace(to_replace=hitparkedcar_cat, value=hitparkedcar_val)"
   ]
  },
  {
   "cell_type": "code",
   "execution_count": 25,
   "metadata": {},
   "outputs": [
    {
     "name": "stdout",
     "output_type": "stream",
     "text": [
      "--------------------------------------------------\n",
      "SEVERITYCODE\n",
      "0     0.000531\n",
      "1    67.759688\n",
      "2    30.450718\n",
      "3     1.609519\n",
      "4     0.179544\n",
      "dtype: float64\n",
      "--------------------------------------------------\n",
      "ADDRTYPE\n",
      "0     0.126955\n",
      "1    64.951794\n",
      "2    34.921250\n",
      "dtype: float64\n",
      "--------------------------------------------------\n",
      "COLLISIONTYPE\n",
      "0    18.775597\n",
      "1     3.119705\n",
      "2     1.146317\n",
      "3     7.460094\n",
      "4    12.653582\n",
      "5    23.191416\n",
      "6     4.016361\n",
      "7    18.187565\n",
      "8     1.587740\n",
      "9     9.861624\n",
      "dtype: float64\n",
      "--------------------------------------------------\n",
      "JUNCTIONTYPE\n",
      "0     1.107009\n",
      "1    33.793525\n",
      "2     5.695466\n",
      "3    12.032084\n",
      "4    47.281613\n",
      "5     0.087647\n",
      "6     0.002656\n",
      "dtype: float64\n",
      "--------------------------------------------------\n",
      "UNDERINFL\n",
      "0    94.956309\n",
      "1     5.043691\n",
      "dtype: float64\n",
      "--------------------------------------------------\n",
      "HITPARKEDCAR\n",
      "0    96.823989\n",
      "1     3.176011\n",
      "dtype: float64\n"
     ]
    }
   ],
   "source": [
    "print('-'*50)\n",
    "print(df.groupby('SEVERITYCODE').size() * 100 / len(df))\n",
    "print('-'*50)\n",
    "print(df.groupby('ADDRTYPE').size() * 100 / len(df))\n",
    "print('-'*50)\n",
    "print(df.groupby('COLLISIONTYPE').size() * 100 / len(df))\n",
    "print('-'*50)\n",
    "print(df.groupby('JUNCTIONTYPE').size() * 100 / len(df))\n",
    "print('-'*50)\n",
    "print(df.groupby('UNDERINFL').size() * 100 / len(df))\n",
    "print('-'*50)\n",
    "print(df.groupby('HITPARKEDCAR').size() * 100 / len(df))"
   ]
  },
  {
   "cell_type": "markdown",
   "metadata": {},
   "source": [
    "## Feature selection\n",
    "Feature X definition:"
   ]
  },
  {
   "cell_type": "code",
   "execution_count": null,
   "metadata": {},
   "outputs": [],
   "source": []
  },
  {
   "cell_type": "code",
   "execution_count": 41,
   "metadata": {},
   "outputs": [
    {
     "data": {
      "text/html": [
       "<div>\n",
       "<style scoped>\n",
       "    .dataframe tbody tr th:only-of-type {\n",
       "        vertical-align: middle;\n",
       "    }\n",
       "\n",
       "    .dataframe tbody tr th {\n",
       "        vertical-align: top;\n",
       "    }\n",
       "\n",
       "    .dataframe thead th {\n",
       "        text-align: right;\n",
       "    }\n",
       "</style>\n",
       "<table border=\"1\" class=\"dataframe\">\n",
       "  <thead>\n",
       "    <tr style=\"text-align: right;\">\n",
       "      <th></th>\n",
       "      <th>ADDRTYPE</th>\n",
       "      <th>COLLISIONTYPE</th>\n",
       "      <th>JUNCTIONTYPE</th>\n",
       "      <th>UNDERINFL</th>\n",
       "      <th>WEATHER</th>\n",
       "      <th>ROADCOND</th>\n",
       "      <th>LIGHTCOND</th>\n",
       "      <th>DAYOFWEEK</th>\n",
       "    </tr>\n",
       "  </thead>\n",
       "  <tbody>\n",
       "    <tr>\n",
       "      <th>0</th>\n",
       "      <td>1</td>\n",
       "      <td>1</td>\n",
       "      <td>2</td>\n",
       "      <td>0</td>\n",
       "      <td>1</td>\n",
       "      <td>1</td>\n",
       "      <td>0</td>\n",
       "      <td>3</td>\n",
       "    </tr>\n",
       "    <tr>\n",
       "      <th>1</th>\n",
       "      <td>1</td>\n",
       "      <td>6</td>\n",
       "      <td>4</td>\n",
       "      <td>0</td>\n",
       "      <td>0</td>\n",
       "      <td>1</td>\n",
       "      <td>0</td>\n",
       "      <td>6</td>\n",
       "    </tr>\n",
       "    <tr>\n",
       "      <th>2</th>\n",
       "      <td>2</td>\n",
       "      <td>0</td>\n",
       "      <td>1</td>\n",
       "      <td>0</td>\n",
       "      <td>0</td>\n",
       "      <td>0</td>\n",
       "      <td>0</td>\n",
       "      <td>0</td>\n",
       "    </tr>\n",
       "    <tr>\n",
       "      <th>5</th>\n",
       "      <td>2</td>\n",
       "      <td>3</td>\n",
       "      <td>1</td>\n",
       "      <td>0</td>\n",
       "      <td>1</td>\n",
       "      <td>1</td>\n",
       "      <td>0</td>\n",
       "      <td>3</td>\n",
       "    </tr>\n",
       "    <tr>\n",
       "      <th>6</th>\n",
       "      <td>2</td>\n",
       "      <td>9</td>\n",
       "      <td>1</td>\n",
       "      <td>0</td>\n",
       "      <td>1</td>\n",
       "      <td>1</td>\n",
       "      <td>0</td>\n",
       "      <td>4</td>\n",
       "    </tr>\n",
       "  </tbody>\n",
       "</table>\n",
       "</div>"
      ],
      "text/plain": [
       "   ADDRTYPE  COLLISIONTYPE  JUNCTIONTYPE  UNDERINFL  WEATHER  ROADCOND  \\\n",
       "0         1              1             2          0        1         1   \n",
       "1         1              6             4          0        0         1   \n",
       "2         2              0             1          0        0         0   \n",
       "5         2              3             1          0        1         1   \n",
       "6         2              9             1          0        1         1   \n",
       "\n",
       "   LIGHTCOND  DAYOFWEEK  \n",
       "0          0          3  \n",
       "1          0          6  \n",
       "2          0          0  \n",
       "5          0          3  \n",
       "6          0          4  "
      ]
     },
     "execution_count": 41,
     "metadata": {},
     "output_type": "execute_result"
    }
   ],
   "source": [
    "#    'ADDRTYPE','SEVERITYCODE',\n",
    "#    'COLLISIONTYPE','PERSONCOUNT',\n",
    "#    'PEDCOUNT','PEDCYLCOUNT','VEHCOUNT',\n",
    "#    'INJURIES', 'SERIOUSINJURIES',\n",
    "#    'FATALITIES', 'JUNCTIONTYPE',\n",
    "#    'UNDERINFL', 'WEATHER',\n",
    "#    'ROADCOND', 'LIGHTCOND',\n",
    "#    'HITPARKEDCAR', 'DAYOFWEEK'\n",
    "\n",
    "cols = [\n",
    "    'ADDRTYPE',\n",
    "    'COLLISIONTYPE','JUNCTIONTYPE',\n",
    "    'UNDERINFL', 'WEATHER',\n",
    "    'ROADCOND', 'LIGHTCOND',\n",
    "    'DAYOFWEEK'\n",
    "]\n",
    "X = df[cols]\n",
    "X[0:5]"
   ]
  },
  {
   "cell_type": "code",
   "execution_count": 42,
   "metadata": {},
   "outputs": [
    {
     "data": {
      "text/plain": [
       "array([2, 2, 1, 2, 1], dtype=int64)"
      ]
     },
     "execution_count": 42,
     "metadata": {},
     "output_type": "execute_result"
    }
   ],
   "source": [
    "y = df['SEVERITYCODE'].values\n",
    "y[0:5]"
   ]
  },
  {
   "cell_type": "code",
   "execution_count": 43,
   "metadata": {},
   "outputs": [
    {
     "name": "stdout",
     "output_type": "stream",
     "text": [
      "X_train shape:  (150604, 8)\n",
      "X_test shape:  (37651, 8)\n",
      "y_train shape:  (150604,)\n",
      "y_test shape:  (37651,)\n",
      "        ADDRTYPE  COLLISIONTYPE  JUNCTIONTYPE  UNDERINFL  WEATHER  ROADCOND  \\\n",
      "102119         2              0             1          0        0         0   \n",
      "96463          2              9             1          0        1         1   \n",
      "12176          1              7             3          0        1         1   \n",
      "68377          1              7             3          0        1         1   \n",
      "144902         1              5             4          0        1         1   \n",
      "\n",
      "        LIGHTCOND  DAYOFWEEK  \n",
      "102119          0          3  \n",
      "96463           0          5  \n",
      "12176           0          1  \n",
      "68377           0          5  \n",
      "144902          0          1  \n",
      "[2 1 2 2 1]\n"
     ]
    }
   ],
   "source": [
    "X_train, X_test, y_train, y_test = train_test_split(X, y, test_size=0.2, random_state=42)\n",
    "print(\"X_train shape: \", X_train.shape)\n",
    "print(\"X_test shape: \", X_test.shape)\n",
    "print(\"y_train shape: \", y_train.shape)\n",
    "print(\"y_test shape: \", y_test.shape)\n",
    "print(X_train[0:5])\n",
    "print(y_train[0:5])"
   ]
  },
  {
   "cell_type": "markdown",
   "metadata": {},
   "source": [
    "### Data Standardization"
   ]
  },
  {
   "cell_type": "code",
   "execution_count": 44,
   "metadata": {},
   "outputs": [
    {
     "data": {
      "text/plain": [
       "array([[-0.72643125, -1.23296776, -0.51408466, -0.23046889,  0.71736087,\n",
       "         0.60555105, -0.09605311,  0.02735883],\n",
       "       [-0.72643125,  0.54245745,  0.93687497, -0.23046889, -1.39399854,\n",
       "         0.60555105, -0.09605311,  1.58825458],\n",
       "       [ 1.36135714, -1.5880528 , -1.23956448, -0.23046889, -1.39399854,\n",
       "        -1.65138843, -0.09605311, -1.53353693],\n",
       "       [ 1.36135714, -0.52279767, -1.23956448, -0.23046889,  0.71736087,\n",
       "         0.60555105, -0.09605311,  0.02735883],\n",
       "       [ 1.36135714,  1.60771258, -1.23956448, -0.23046889,  0.71736087,\n",
       "         0.60555105, -0.09605311,  0.54765741]])"
      ]
     },
     "execution_count": 44,
     "metadata": {},
     "output_type": "execute_result"
    }
   ],
   "source": [
    "X= preprocessing.StandardScaler().fit(X).transform(X)\n",
    "X[0:5]"
   ]
  },
  {
   "cell_type": "markdown",
   "metadata": {},
   "source": [
    "### Building models and comparing them\n",
    "#### KNN"
   ]
  },
  {
   "cell_type": "code",
   "execution_count": 45,
   "metadata": {},
   "outputs": [
    {
     "data": {
      "text/plain": [
       "KNeighborsClassifier(n_neighbors=3)"
      ]
     },
     "execution_count": 45,
     "metadata": {},
     "output_type": "execute_result"
    }
   ],
   "source": [
    "k = 3\n",
    "#Train Model and Predict  \n",
    "kNN_model = KNeighborsClassifier(n_neighbors=k).fit(X_train,y_train)\n",
    "kNN_model"
   ]
  },
  {
   "cell_type": "code",
   "execution_count": 46,
   "metadata": {},
   "outputs": [
    {
     "data": {
      "text/plain": [
       "array([2, 2, 2, 2, 1], dtype=int64)"
      ]
     },
     "execution_count": 46,
     "metadata": {},
     "output_type": "execute_result"
    }
   ],
   "source": [
    "yhat = kNN_model.predict(X_test)\n",
    "yhat[0:5]"
   ]
  },
  {
   "cell_type": "code",
   "execution_count": 47,
   "metadata": {},
   "outputs": [
    {
     "data": {
      "text/plain": [
       "array([0.64271865, 0.68872009, 0.68144272, 0.69554594, 0.69291652,\n",
       "       0.69796287])"
      ]
     },
     "execution_count": 47,
     "metadata": {},
     "output_type": "execute_result"
    }
   ],
   "source": [
    "# Best k\n",
    "Ks=7\n",
    "mean_acc=np.zeros((Ks-1))\n",
    "std_acc=np.zeros((Ks-1))\n",
    "ConfustionMx=[];\n",
    "for n in range(1,Ks):\n",
    "    \n",
    "    #Train Model and Predict  \n",
    "    kNN_model = KNeighborsClassifier(n_neighbors=n).fit(X_train,y_train)\n",
    "    yhat = kNN_model.predict(X_test)\n",
    "    \n",
    "    \n",
    "    mean_acc[n-1]=np.mean(yhat==y_test);\n",
    "    \n",
    "    std_acc[n-1]=np.std(yhat==y_test)/np.sqrt(yhat.shape[0])\n",
    "mean_acc"
   ]
  },
  {
   "cell_type": "code",
   "execution_count": 48,
   "metadata": {},
   "outputs": [
    {
     "data": {
      "text/plain": [
       "KNeighborsClassifier(n_neighbors=4)"
      ]
     },
     "execution_count": 48,
     "metadata": {},
     "output_type": "execute_result"
    }
   ],
   "source": [
    "# Building the model again, using k=4\n",
    "from sklearn.neighbors import KNeighborsClassifier\n",
    "k = 4\n",
    "#Train Model and Predict  \n",
    "kNN_model = KNeighborsClassifier(n_neighbors=k).fit(X_train,y_train)\n",
    "kNN_model"
   ]
  },
  {
   "cell_type": "markdown",
   "metadata": {},
   "source": [
    "#### Decision tree"
   ]
  },
  {
   "cell_type": "code",
   "execution_count": 49,
   "metadata": {},
   "outputs": [
    {
     "data": {
      "text/plain": [
       "DecisionTreeClassifier(criterion='entropy', max_depth=4)"
      ]
     },
     "execution_count": 49,
     "metadata": {},
     "output_type": "execute_result"
    }
   ],
   "source": [
    "from sklearn.tree import DecisionTreeClassifier\n",
    "DT_model = DecisionTreeClassifier(criterion=\"entropy\", max_depth = 4)\n",
    "DT_model.fit(X_train,y_train)\n",
    "DT_model"
   ]
  },
  {
   "cell_type": "code",
   "execution_count": 50,
   "metadata": {},
   "outputs": [
    {
     "data": {
      "text/plain": [
       "array([1, 1, 1, ..., 1, 1, 1], dtype=int64)"
      ]
     },
     "execution_count": 50,
     "metadata": {},
     "output_type": "execute_result"
    }
   ],
   "source": [
    "yhat = DT_model.predict(X_test)\n",
    "yhat"
   ]
  },
  {
   "cell_type": "markdown",
   "metadata": {},
   "source": [
    "#### Support Vector Machine"
   ]
  },
  {
   "cell_type": "code",
   "execution_count": null,
   "metadata": {},
   "outputs": [],
   "source": [
    "SVM_model = svm.SVC()\n",
    "SVM_model.fit(X_train, y_train) "
   ]
  },
  {
   "cell_type": "code",
   "execution_count": null,
   "metadata": {},
   "outputs": [],
   "source": [
    "yhat = SVM_model.predict(X_test)\n",
    "yhat"
   ]
  },
  {
   "cell_type": "markdown",
   "metadata": {},
   "source": [
    "#### Logistic Regression"
   ]
  },
  {
   "cell_type": "code",
   "execution_count": null,
   "metadata": {},
   "outputs": [],
   "source": [
    "LR_model = LogisticRegression(C=0.01).fit(X_train,y_train)\n",
    "LR_model"
   ]
  },
  {
   "cell_type": "code",
   "execution_count": null,
   "metadata": {},
   "outputs": [],
   "source": [
    "yhat = LR_model.predict(X_test)\n",
    "yhat"
   ]
  },
  {
   "cell_type": "code",
   "execution_count": null,
   "metadata": {},
   "outputs": [],
   "source": []
  },
  {
   "cell_type": "markdown",
   "metadata": {},
   "source": [
    "##### Evaluation"
   ]
  },
  {
   "cell_type": "code",
   "execution_count": null,
   "metadata": {},
   "outputs": [],
   "source": [
    "knn_yhat = kNN_model.predict(test_X)\n",
    "print(\"KNN Jaccard index: %.2f\" % jaccard_similarity_score(test_y, knn_yhat))\n",
    "print(\"KNN F1-score: %.2f\" % f1_score(test_y, knn_yhat, average='weighted') )"
   ]
  },
  {
   "cell_type": "code",
   "execution_count": null,
   "metadata": {},
   "outputs": [],
   "source": [
    "DT_yhat = DT_model.predict(test_X)\n",
    "print(\"DT Jaccard index: %.2f\" % jaccard_similarity_score(test_y, DT_yhat))\n",
    "print(\"DT F1-score: %.2f\" % f1_score(test_y, DT_yhat, average='weighted') )"
   ]
  },
  {
   "cell_type": "code",
   "execution_count": null,
   "metadata": {},
   "outputs": [],
   "source": [
    "SVM_yhat = SVM_model.predict(test_X)\n",
    "print(\"SVM Jaccard index: %.2f\" % jaccard_similarity_score(test_y, SVM_yhat))\n",
    "print(\"SVM F1-score: %.2f\" % f1_score(test_y, SVM_yhat, average='weighted') )"
   ]
  },
  {
   "cell_type": "code",
   "execution_count": null,
   "metadata": {},
   "outputs": [],
   "source": [
    "LR_yhat = LR_model.predict(test_X)\n",
    "LR_yhat_prob = LR_model.predict_proba(test_X)\n",
    "print(\"LR Jaccard index: %.2f\" % jaccard_similarity_score(test_y, LR_yhat))\n",
    "print(\"LR F1-score: %.2f\" % f1_score(test_y, LR_yhat, average='weighted') )\n",
    "print(\"LR LogLoss: %.2f\" % log_loss(test_y, LR_yhat_prob))"
   ]
  },
  {
   "cell_type": "markdown",
   "metadata": {},
   "source": [
    "## Report\n",
    "The accuracy of the different methods are compared in the next table\n",
    "\n",
    "| Algorithm          | Jaccard | F1-score | LogLoss |\n",
    "|--------------------|---------|----------|---------|\n",
    "| KNN                | 0.67    | 0.63     | NA      |\n",
    "| Decision Tree      | 0.72    | 0.74     | NA      |\n",
    "| SVM                | 0.80    | 0.76     | NA      |\n",
    "| LogisticRegression | 0.74    | 0.66     | 0.57    |"
   ]
  },
  {
   "cell_type": "code",
   "execution_count": null,
   "metadata": {},
   "outputs": [],
   "source": []
  }
 ],
 "metadata": {
  "kernelspec": {
   "display_name": "Python 3",
   "language": "python",
   "name": "python3"
  },
  "language_info": {
   "codemirror_mode": {
    "name": "ipython",
    "version": 3
   },
   "file_extension": ".py",
   "mimetype": "text/x-python",
   "name": "python",
   "nbconvert_exporter": "python",
   "pygments_lexer": "ipython3",
   "version": "3.8.3"
  }
 },
 "nbformat": 4,
 "nbformat_minor": 4
}
