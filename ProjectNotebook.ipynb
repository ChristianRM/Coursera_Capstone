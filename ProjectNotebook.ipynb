{
 "cells": [
  {
   "cell_type": "markdown",
   "metadata": {},
   "source": [
    "# Accident Severity Notebook"
   ]
  },
  {
   "cell_type": "markdown",
   "metadata": {},
   "source": [
    "[comment]: <> (A description of the problem and a discussion of the background. 15 marks)\n",
    "[comment]: <> (A description of the data and how it will be used to solve the problem. 15 marks)"
   ]
  },
  {
   "cell_type": "code",
   "execution_count": 1,
   "metadata": {},
   "outputs": [],
   "source": [
    "import pandas as pd\n",
    "import numpy as np\n",
    "import matplotlib.pyplot as plt\n",
    "import seaborn as sns\n",
    "import datetime as dt\n",
    "\n",
    "pd.set_option('display.max_columns', None)"
   ]
  },
  {
   "cell_type": "code",
   "execution_count": 2,
   "metadata": {
    "collapsed": true,
    "jupyter": {
     "outputs_hidden": true
    }
   },
   "outputs": [
    {
     "name": "stderr",
     "output_type": "stream",
     "text": [
      "C:\\Users\\Chris\\anaconda3\\lib\\site-packages\\IPython\\core\\interactiveshell.py:3071: DtypeWarning: Columns (35) have mixed types.Specify dtype option on import or set low_memory=False.\n",
      "  has_raised = await self.run_ast_nodes(code_ast.body, cell_name,\n"
     ]
    },
    {
     "data": {
      "text/html": [
       "<div>\n",
       "<style scoped>\n",
       "    .dataframe tbody tr th:only-of-type {\n",
       "        vertical-align: middle;\n",
       "    }\n",
       "\n",
       "    .dataframe tbody tr th {\n",
       "        vertical-align: top;\n",
       "    }\n",
       "\n",
       "    .dataframe thead th {\n",
       "        text-align: right;\n",
       "    }\n",
       "</style>\n",
       "<table border=\"1\" class=\"dataframe\">\n",
       "  <thead>\n",
       "    <tr style=\"text-align: right;\">\n",
       "      <th></th>\n",
       "      <th>X</th>\n",
       "      <th>Y</th>\n",
       "      <th>OBJECTID</th>\n",
       "      <th>INCKEY</th>\n",
       "      <th>COLDETKEY</th>\n",
       "      <th>REPORTNO</th>\n",
       "      <th>STATUS</th>\n",
       "      <th>ADDRTYPE</th>\n",
       "      <th>INTKEY</th>\n",
       "      <th>LOCATION</th>\n",
       "      <th>EXCEPTRSNCODE</th>\n",
       "      <th>EXCEPTRSNDESC</th>\n",
       "      <th>SEVERITYCODE</th>\n",
       "      <th>SEVERITYDESC</th>\n",
       "      <th>COLLISIONTYPE</th>\n",
       "      <th>PERSONCOUNT</th>\n",
       "      <th>PEDCOUNT</th>\n",
       "      <th>PEDCYLCOUNT</th>\n",
       "      <th>VEHCOUNT</th>\n",
       "      <th>INJURIES</th>\n",
       "      <th>SERIOUSINJURIES</th>\n",
       "      <th>FATALITIES</th>\n",
       "      <th>INCDATE</th>\n",
       "      <th>INCDTTM</th>\n",
       "      <th>JUNCTIONTYPE</th>\n",
       "      <th>SDOT_COLCODE</th>\n",
       "      <th>SDOT_COLDESC</th>\n",
       "      <th>INATTENTIONIND</th>\n",
       "      <th>UNDERINFL</th>\n",
       "      <th>WEATHER</th>\n",
       "      <th>ROADCOND</th>\n",
       "      <th>LIGHTCOND</th>\n",
       "      <th>PEDROWNOTGRNT</th>\n",
       "      <th>SDOTCOLNUM</th>\n",
       "      <th>SPEEDING</th>\n",
       "      <th>ST_COLCODE</th>\n",
       "      <th>ST_COLDESC</th>\n",
       "      <th>SEGLANEKEY</th>\n",
       "      <th>CROSSWALKKEY</th>\n",
       "      <th>HITPARKEDCAR</th>\n",
       "    </tr>\n",
       "  </thead>\n",
       "  <tbody>\n",
       "    <tr>\n",
       "      <th>0</th>\n",
       "      <td>-122.344896</td>\n",
       "      <td>47.717173</td>\n",
       "      <td>1</td>\n",
       "      <td>1003</td>\n",
       "      <td>1003</td>\n",
       "      <td>3503158</td>\n",
       "      <td>Matched</td>\n",
       "      <td>Block</td>\n",
       "      <td>NaN</td>\n",
       "      <td>AURORA AVE N BETWEEN N 117TH PL AND N 125TH ST</td>\n",
       "      <td></td>\n",
       "      <td>NaN</td>\n",
       "      <td>2</td>\n",
       "      <td>Injury Collision</td>\n",
       "      <td>Cycles</td>\n",
       "      <td>2</td>\n",
       "      <td>0</td>\n",
       "      <td>1</td>\n",
       "      <td>1</td>\n",
       "      <td>1</td>\n",
       "      <td>0</td>\n",
       "      <td>0</td>\n",
       "      <td>2013/03/14 00:00:00+00</td>\n",
       "      <td>3/14/2013 5:30:00 PM</td>\n",
       "      <td>Driveway Junction</td>\n",
       "      <td>18.0</td>\n",
       "      <td>MOTOR VEHICLE STRUCK PEDALCYCLIST, FRONT END A...</td>\n",
       "      <td>NaN</td>\n",
       "      <td>N</td>\n",
       "      <td>Clear</td>\n",
       "      <td>Dry</td>\n",
       "      <td>Daylight</td>\n",
       "      <td>Y</td>\n",
       "      <td>NaN</td>\n",
       "      <td>NaN</td>\n",
       "      <td>45</td>\n",
       "      <td>Vehicle - Pedalcyclist</td>\n",
       "      <td>15057</td>\n",
       "      <td>0</td>\n",
       "      <td>N</td>\n",
       "    </tr>\n",
       "    <tr>\n",
       "      <th>1</th>\n",
       "      <td>-122.376467</td>\n",
       "      <td>47.543774</td>\n",
       "      <td>2</td>\n",
       "      <td>56200</td>\n",
       "      <td>56200</td>\n",
       "      <td>1795087</td>\n",
       "      <td>Matched</td>\n",
       "      <td>Block</td>\n",
       "      <td>NaN</td>\n",
       "      <td>35TH AVE SW BETWEEN SW MORGAN ST AND SW HOLLY ST</td>\n",
       "      <td>NaN</td>\n",
       "      <td>NaN</td>\n",
       "      <td>2</td>\n",
       "      <td>Injury Collision</td>\n",
       "      <td>Pedestrian</td>\n",
       "      <td>7</td>\n",
       "      <td>1</td>\n",
       "      <td>0</td>\n",
       "      <td>1</td>\n",
       "      <td>1</td>\n",
       "      <td>0</td>\n",
       "      <td>0</td>\n",
       "      <td>2006/01/15 00:00:00+00</td>\n",
       "      <td>1/15/2006 5:35:00 PM</td>\n",
       "      <td>Mid-Block (not related to intersection)</td>\n",
       "      <td>24.0</td>\n",
       "      <td>MOTOR VEHCILE STRUCK PEDESTRIAN</td>\n",
       "      <td>NaN</td>\n",
       "      <td>0</td>\n",
       "      <td>Overcast</td>\n",
       "      <td>Dry</td>\n",
       "      <td>Dark - Street Lights On</td>\n",
       "      <td>NaN</td>\n",
       "      <td>6015003.0</td>\n",
       "      <td>NaN</td>\n",
       "      <td>0</td>\n",
       "      <td>Vehicle going straight hits pedestrian</td>\n",
       "      <td>0</td>\n",
       "      <td>0</td>\n",
       "      <td>N</td>\n",
       "    </tr>\n",
       "    <tr>\n",
       "      <th>2</th>\n",
       "      <td>-122.360735</td>\n",
       "      <td>47.701487</td>\n",
       "      <td>3</td>\n",
       "      <td>327037</td>\n",
       "      <td>328537</td>\n",
       "      <td>E979380</td>\n",
       "      <td>Matched</td>\n",
       "      <td>Intersection</td>\n",
       "      <td>37122.0</td>\n",
       "      <td>3RD AVE NW AND NW 100TH ST</td>\n",
       "      <td></td>\n",
       "      <td>NaN</td>\n",
       "      <td>1</td>\n",
       "      <td>Property Damage Only Collision</td>\n",
       "      <td>Angles</td>\n",
       "      <td>2</td>\n",
       "      <td>0</td>\n",
       "      <td>0</td>\n",
       "      <td>2</td>\n",
       "      <td>0</td>\n",
       "      <td>0</td>\n",
       "      <td>0</td>\n",
       "      <td>2019/09/09 00:00:00+00</td>\n",
       "      <td>9/9/2019 3:32:00 PM</td>\n",
       "      <td>At Intersection (intersection related)</td>\n",
       "      <td>14.0</td>\n",
       "      <td>MOTOR VEHICLE STRUCK MOTOR VEHICLE, REAR END</td>\n",
       "      <td>NaN</td>\n",
       "      <td>N</td>\n",
       "      <td>Overcast</td>\n",
       "      <td>Wet</td>\n",
       "      <td>Daylight</td>\n",
       "      <td>NaN</td>\n",
       "      <td>NaN</td>\n",
       "      <td>NaN</td>\n",
       "      <td>10</td>\n",
       "      <td>Entering at angle</td>\n",
       "      <td>0</td>\n",
       "      <td>0</td>\n",
       "      <td>N</td>\n",
       "    </tr>\n",
       "    <tr>\n",
       "      <th>3</th>\n",
       "      <td>-122.297415</td>\n",
       "      <td>47.599233</td>\n",
       "      <td>4</td>\n",
       "      <td>327278</td>\n",
       "      <td>328778</td>\n",
       "      <td>E996362</td>\n",
       "      <td>Unmatched</td>\n",
       "      <td>Intersection</td>\n",
       "      <td>30602.0</td>\n",
       "      <td>M L KING JR WAY S AND S JACKSON ST</td>\n",
       "      <td></td>\n",
       "      <td>NaN</td>\n",
       "      <td>1</td>\n",
       "      <td>Property Damage Only Collision</td>\n",
       "      <td>NaN</td>\n",
       "      <td>2</td>\n",
       "      <td>0</td>\n",
       "      <td>0</td>\n",
       "      <td>0</td>\n",
       "      <td>0</td>\n",
       "      <td>0</td>\n",
       "      <td>0</td>\n",
       "      <td>2019/12/19 00:00:00+00</td>\n",
       "      <td>12/19/2019</td>\n",
       "      <td>At Intersection (intersection related)</td>\n",
       "      <td>14.0</td>\n",
       "      <td>MOTOR VEHICLE STRUCK MOTOR VEHICLE, REAR END</td>\n",
       "      <td>NaN</td>\n",
       "      <td>NaN</td>\n",
       "      <td>NaN</td>\n",
       "      <td>NaN</td>\n",
       "      <td>NaN</td>\n",
       "      <td>NaN</td>\n",
       "      <td>NaN</td>\n",
       "      <td>NaN</td>\n",
       "      <td></td>\n",
       "      <td>NaN</td>\n",
       "      <td>0</td>\n",
       "      <td>0</td>\n",
       "      <td>N</td>\n",
       "    </tr>\n",
       "    <tr>\n",
       "      <th>4</th>\n",
       "      <td>-122.368001</td>\n",
       "      <td>47.653585</td>\n",
       "      <td>5</td>\n",
       "      <td>1248</td>\n",
       "      <td>1248</td>\n",
       "      <td>3645424</td>\n",
       "      <td>Unmatched</td>\n",
       "      <td>Block</td>\n",
       "      <td>NaN</td>\n",
       "      <td>W EWING ST BETWEEN 6TH AVE W AND W EWING PL</td>\n",
       "      <td></td>\n",
       "      <td>NaN</td>\n",
       "      <td>0</td>\n",
       "      <td>Unknown</td>\n",
       "      <td>NaN</td>\n",
       "      <td>1</td>\n",
       "      <td>0</td>\n",
       "      <td>0</td>\n",
       "      <td>0</td>\n",
       "      <td>0</td>\n",
       "      <td>0</td>\n",
       "      <td>0</td>\n",
       "      <td>2013/03/27 00:00:00+00</td>\n",
       "      <td>3/27/2013</td>\n",
       "      <td>Mid-Block (not related to intersection)</td>\n",
       "      <td>0.0</td>\n",
       "      <td>NOT ENOUGH INFORMATION / NOT APPLICABLE</td>\n",
       "      <td>NaN</td>\n",
       "      <td>NaN</td>\n",
       "      <td>NaN</td>\n",
       "      <td>NaN</td>\n",
       "      <td>NaN</td>\n",
       "      <td>NaN</td>\n",
       "      <td>NaN</td>\n",
       "      <td>NaN</td>\n",
       "      <td></td>\n",
       "      <td>NaN</td>\n",
       "      <td>0</td>\n",
       "      <td>0</td>\n",
       "      <td>N</td>\n",
       "    </tr>\n",
       "  </tbody>\n",
       "</table>\n",
       "</div>"
      ],
      "text/plain": [
       "            X          Y  OBJECTID  INCKEY  COLDETKEY REPORTNO     STATUS  \\\n",
       "0 -122.344896  47.717173         1    1003       1003  3503158    Matched   \n",
       "1 -122.376467  47.543774         2   56200      56200  1795087    Matched   \n",
       "2 -122.360735  47.701487         3  327037     328537  E979380    Matched   \n",
       "3 -122.297415  47.599233         4  327278     328778  E996362  Unmatched   \n",
       "4 -122.368001  47.653585         5    1248       1248  3645424  Unmatched   \n",
       "\n",
       "       ADDRTYPE   INTKEY                                          LOCATION  \\\n",
       "0         Block      NaN    AURORA AVE N BETWEEN N 117TH PL AND N 125TH ST   \n",
       "1         Block      NaN  35TH AVE SW BETWEEN SW MORGAN ST AND SW HOLLY ST   \n",
       "2  Intersection  37122.0                        3RD AVE NW AND NW 100TH ST   \n",
       "3  Intersection  30602.0                M L KING JR WAY S AND S JACKSON ST   \n",
       "4         Block      NaN       W EWING ST BETWEEN 6TH AVE W AND W EWING PL   \n",
       "\n",
       "  EXCEPTRSNCODE EXCEPTRSNDESC SEVERITYCODE                    SEVERITYDESC  \\\n",
       "0                         NaN            2                Injury Collision   \n",
       "1           NaN           NaN            2                Injury Collision   \n",
       "2                         NaN            1  Property Damage Only Collision   \n",
       "3                         NaN            1  Property Damage Only Collision   \n",
       "4                         NaN            0                         Unknown   \n",
       "\n",
       "  COLLISIONTYPE  PERSONCOUNT  PEDCOUNT  PEDCYLCOUNT  VEHCOUNT  INJURIES  \\\n",
       "0        Cycles            2         0            1         1         1   \n",
       "1    Pedestrian            7         1            0         1         1   \n",
       "2        Angles            2         0            0         2         0   \n",
       "3           NaN            2         0            0         0         0   \n",
       "4           NaN            1         0            0         0         0   \n",
       "\n",
       "   SERIOUSINJURIES  FATALITIES                 INCDATE               INCDTTM  \\\n",
       "0                0           0  2013/03/14 00:00:00+00  3/14/2013 5:30:00 PM   \n",
       "1                0           0  2006/01/15 00:00:00+00  1/15/2006 5:35:00 PM   \n",
       "2                0           0  2019/09/09 00:00:00+00   9/9/2019 3:32:00 PM   \n",
       "3                0           0  2019/12/19 00:00:00+00            12/19/2019   \n",
       "4                0           0  2013/03/27 00:00:00+00             3/27/2013   \n",
       "\n",
       "                              JUNCTIONTYPE  SDOT_COLCODE  \\\n",
       "0                        Driveway Junction          18.0   \n",
       "1  Mid-Block (not related to intersection)          24.0   \n",
       "2   At Intersection (intersection related)          14.0   \n",
       "3   At Intersection (intersection related)          14.0   \n",
       "4  Mid-Block (not related to intersection)           0.0   \n",
       "\n",
       "                                        SDOT_COLDESC INATTENTIONIND UNDERINFL  \\\n",
       "0  MOTOR VEHICLE STRUCK PEDALCYCLIST, FRONT END A...            NaN         N   \n",
       "1                    MOTOR VEHCILE STRUCK PEDESTRIAN            NaN         0   \n",
       "2       MOTOR VEHICLE STRUCK MOTOR VEHICLE, REAR END            NaN         N   \n",
       "3       MOTOR VEHICLE STRUCK MOTOR VEHICLE, REAR END            NaN       NaN   \n",
       "4            NOT ENOUGH INFORMATION / NOT APPLICABLE            NaN       NaN   \n",
       "\n",
       "    WEATHER ROADCOND                LIGHTCOND PEDROWNOTGRNT  SDOTCOLNUM  \\\n",
       "0     Clear      Dry                 Daylight             Y         NaN   \n",
       "1  Overcast      Dry  Dark - Street Lights On           NaN   6015003.0   \n",
       "2  Overcast      Wet                 Daylight           NaN         NaN   \n",
       "3       NaN      NaN                      NaN           NaN         NaN   \n",
       "4       NaN      NaN                      NaN           NaN         NaN   \n",
       "\n",
       "  SPEEDING ST_COLCODE                              ST_COLDESC  SEGLANEKEY  \\\n",
       "0      NaN         45                  Vehicle - Pedalcyclist       15057   \n",
       "1      NaN          0  Vehicle going straight hits pedestrian           0   \n",
       "2      NaN         10                       Entering at angle           0   \n",
       "3      NaN                                                NaN           0   \n",
       "4      NaN                                                NaN           0   \n",
       "\n",
       "   CROSSWALKKEY HITPARKEDCAR  \n",
       "0             0            N  \n",
       "1             0            N  \n",
       "2             0            N  \n",
       "3             0            N  \n",
       "4             0            N  "
      ]
     },
     "execution_count": 2,
     "metadata": {},
     "output_type": "execute_result"
    }
   ],
   "source": [
    "df = pd.read_csv('Collisions.csv')\n",
    "df.head()"
   ]
  },
  {
   "cell_type": "code",
   "execution_count": 5,
   "metadata": {
    "collapsed": true,
    "jupyter": {
     "outputs_hidden": true
    }
   },
   "outputs": [
    {
     "data": {
      "text/html": [
       "<div>\n",
       "<style scoped>\n",
       "    .dataframe tbody tr th:only-of-type {\n",
       "        vertical-align: middle;\n",
       "    }\n",
       "\n",
       "    .dataframe tbody tr th {\n",
       "        vertical-align: top;\n",
       "    }\n",
       "\n",
       "    .dataframe thead th {\n",
       "        text-align: right;\n",
       "    }\n",
       "</style>\n",
       "<table border=\"1\" class=\"dataframe\">\n",
       "  <thead>\n",
       "    <tr style=\"text-align: right;\">\n",
       "      <th></th>\n",
       "      <th>X</th>\n",
       "      <th>Y</th>\n",
       "      <th>OBJECTID</th>\n",
       "      <th>INCKEY</th>\n",
       "      <th>COLDETKEY</th>\n",
       "      <th>INTKEY</th>\n",
       "      <th>PERSONCOUNT</th>\n",
       "      <th>PEDCOUNT</th>\n",
       "      <th>PEDCYLCOUNT</th>\n",
       "      <th>VEHCOUNT</th>\n",
       "      <th>INJURIES</th>\n",
       "      <th>SERIOUSINJURIES</th>\n",
       "      <th>FATALITIES</th>\n",
       "      <th>SDOT_COLCODE</th>\n",
       "      <th>SDOTCOLNUM</th>\n",
       "      <th>SEGLANEKEY</th>\n",
       "      <th>CROSSWALKKEY</th>\n",
       "    </tr>\n",
       "  </thead>\n",
       "  <tbody>\n",
       "    <tr>\n",
       "      <th>count</th>\n",
       "      <td>214050.000000</td>\n",
       "      <td>214050.000000</td>\n",
       "      <td>221525.000000</td>\n",
       "      <td>221525.000000</td>\n",
       "      <td>221525.000000</td>\n",
       "      <td>71936.000000</td>\n",
       "      <td>221525.000000</td>\n",
       "      <td>221525.000000</td>\n",
       "      <td>221525.000000</td>\n",
       "      <td>221525.000000</td>\n",
       "      <td>221525.000000</td>\n",
       "      <td>221525.000000</td>\n",
       "      <td>221525.000000</td>\n",
       "      <td>221524.000000</td>\n",
       "      <td>1.272050e+05</td>\n",
       "      <td>221525.000000</td>\n",
       "      <td>2.215250e+05</td>\n",
       "    </tr>\n",
       "    <tr>\n",
       "      <th>mean</th>\n",
       "      <td>-122.330756</td>\n",
       "      <td>47.620196</td>\n",
       "      <td>110763.000000</td>\n",
       "      <td>144824.873233</td>\n",
       "      <td>145053.886627</td>\n",
       "      <td>37626.275537</td>\n",
       "      <td>2.226941</td>\n",
       "      <td>0.038118</td>\n",
       "      <td>0.027360</td>\n",
       "      <td>1.730482</td>\n",
       "      <td>0.373935</td>\n",
       "      <td>0.015208</td>\n",
       "      <td>0.001693</td>\n",
       "      <td>13.383042</td>\n",
       "      <td>7.971063e+06</td>\n",
       "      <td>261.135903</td>\n",
       "      <td>9.577244e+03</td>\n",
       "    </tr>\n",
       "    <tr>\n",
       "      <th>std</th>\n",
       "      <td>0.030056</td>\n",
       "      <td>0.056048</td>\n",
       "      <td>63948.903529</td>\n",
       "      <td>89222.567072</td>\n",
       "      <td>89598.173976</td>\n",
       "      <td>51968.207339</td>\n",
       "      <td>1.470050</td>\n",
       "      <td>0.201766</td>\n",
       "      <td>0.164537</td>\n",
       "      <td>0.829754</td>\n",
       "      <td>0.732077</td>\n",
       "      <td>0.158052</td>\n",
       "      <td>0.044888</td>\n",
       "      <td>7.300182</td>\n",
       "      <td>2.611523e+06</td>\n",
       "      <td>3246.962907</td>\n",
       "      <td>7.146156e+04</td>\n",
       "    </tr>\n",
       "    <tr>\n",
       "      <th>min</th>\n",
       "      <td>-122.419091</td>\n",
       "      <td>47.495573</td>\n",
       "      <td>1.000000</td>\n",
       "      <td>1001.000000</td>\n",
       "      <td>1001.000000</td>\n",
       "      <td>23807.000000</td>\n",
       "      <td>0.000000</td>\n",
       "      <td>0.000000</td>\n",
       "      <td>0.000000</td>\n",
       "      <td>0.000000</td>\n",
       "      <td>0.000000</td>\n",
       "      <td>0.000000</td>\n",
       "      <td>0.000000</td>\n",
       "      <td>0.000000</td>\n",
       "      <td>1.007024e+06</td>\n",
       "      <td>0.000000</td>\n",
       "      <td>0.000000e+00</td>\n",
       "    </tr>\n",
       "    <tr>\n",
       "      <th>25%</th>\n",
       "      <td>-122.349280</td>\n",
       "      <td>47.577133</td>\n",
       "      <td>55382.000000</td>\n",
       "      <td>71668.000000</td>\n",
       "      <td>71668.000000</td>\n",
       "      <td>28653.000000</td>\n",
       "      <td>2.000000</td>\n",
       "      <td>0.000000</td>\n",
       "      <td>0.000000</td>\n",
       "      <td>2.000000</td>\n",
       "      <td>0.000000</td>\n",
       "      <td>0.000000</td>\n",
       "      <td>0.000000</td>\n",
       "      <td>11.000000</td>\n",
       "      <td>6.007029e+06</td>\n",
       "      <td>0.000000</td>\n",
       "      <td>0.000000e+00</td>\n",
       "    </tr>\n",
       "    <tr>\n",
       "      <th>50%</th>\n",
       "      <td>-122.330363</td>\n",
       "      <td>47.616033</td>\n",
       "      <td>110763.000000</td>\n",
       "      <td>127252.000000</td>\n",
       "      <td>127252.000000</td>\n",
       "      <td>29973.000000</td>\n",
       "      <td>2.000000</td>\n",
       "      <td>0.000000</td>\n",
       "      <td>0.000000</td>\n",
       "      <td>2.000000</td>\n",
       "      <td>0.000000</td>\n",
       "      <td>0.000000</td>\n",
       "      <td>0.000000</td>\n",
       "      <td>11.000000</td>\n",
       "      <td>8.033011e+06</td>\n",
       "      <td>0.000000</td>\n",
       "      <td>0.000000e+00</td>\n",
       "    </tr>\n",
       "    <tr>\n",
       "      <th>75%</th>\n",
       "      <td>-122.311998</td>\n",
       "      <td>47.664290</td>\n",
       "      <td>166144.000000</td>\n",
       "      <td>209935.000000</td>\n",
       "      <td>210155.000000</td>\n",
       "      <td>33984.000000</td>\n",
       "      <td>3.000000</td>\n",
       "      <td>0.000000</td>\n",
       "      <td>0.000000</td>\n",
       "      <td>2.000000</td>\n",
       "      <td>1.000000</td>\n",
       "      <td>0.000000</td>\n",
       "      <td>0.000000</td>\n",
       "      <td>14.000000</td>\n",
       "      <td>1.018101e+07</td>\n",
       "      <td>0.000000</td>\n",
       "      <td>0.000000e+00</td>\n",
       "    </tr>\n",
       "    <tr>\n",
       "      <th>max</th>\n",
       "      <td>-122.238949</td>\n",
       "      <td>47.734142</td>\n",
       "      <td>221525.000000</td>\n",
       "      <td>334020.000000</td>\n",
       "      <td>335520.000000</td>\n",
       "      <td>764413.000000</td>\n",
       "      <td>93.000000</td>\n",
       "      <td>6.000000</td>\n",
       "      <td>2.000000</td>\n",
       "      <td>15.000000</td>\n",
       "      <td>78.000000</td>\n",
       "      <td>41.000000</td>\n",
       "      <td>5.000000</td>\n",
       "      <td>87.000000</td>\n",
       "      <td>1.307202e+07</td>\n",
       "      <td>525241.000000</td>\n",
       "      <td>5.239700e+06</td>\n",
       "    </tr>\n",
       "  </tbody>\n",
       "</table>\n",
       "</div>"
      ],
      "text/plain": [
       "                   X              Y       OBJECTID         INCKEY  \\\n",
       "count  214050.000000  214050.000000  221525.000000  221525.000000   \n",
       "mean     -122.330756      47.620196  110763.000000  144824.873233   \n",
       "std         0.030056       0.056048   63948.903529   89222.567072   \n",
       "min      -122.419091      47.495573       1.000000    1001.000000   \n",
       "25%      -122.349280      47.577133   55382.000000   71668.000000   \n",
       "50%      -122.330363      47.616033  110763.000000  127252.000000   \n",
       "75%      -122.311998      47.664290  166144.000000  209935.000000   \n",
       "max      -122.238949      47.734142  221525.000000  334020.000000   \n",
       "\n",
       "           COLDETKEY         INTKEY    PERSONCOUNT       PEDCOUNT  \\\n",
       "count  221525.000000   71936.000000  221525.000000  221525.000000   \n",
       "mean   145053.886627   37626.275537       2.226941       0.038118   \n",
       "std     89598.173976   51968.207339       1.470050       0.201766   \n",
       "min      1001.000000   23807.000000       0.000000       0.000000   \n",
       "25%     71668.000000   28653.000000       2.000000       0.000000   \n",
       "50%    127252.000000   29973.000000       2.000000       0.000000   \n",
       "75%    210155.000000   33984.000000       3.000000       0.000000   \n",
       "max    335520.000000  764413.000000      93.000000       6.000000   \n",
       "\n",
       "         PEDCYLCOUNT       VEHCOUNT       INJURIES  SERIOUSINJURIES  \\\n",
       "count  221525.000000  221525.000000  221525.000000    221525.000000   \n",
       "mean        0.027360       1.730482       0.373935         0.015208   \n",
       "std         0.164537       0.829754       0.732077         0.158052   \n",
       "min         0.000000       0.000000       0.000000         0.000000   \n",
       "25%         0.000000       2.000000       0.000000         0.000000   \n",
       "50%         0.000000       2.000000       0.000000         0.000000   \n",
       "75%         0.000000       2.000000       1.000000         0.000000   \n",
       "max         2.000000      15.000000      78.000000        41.000000   \n",
       "\n",
       "          FATALITIES   SDOT_COLCODE    SDOTCOLNUM     SEGLANEKEY  CROSSWALKKEY  \n",
       "count  221525.000000  221524.000000  1.272050e+05  221525.000000  2.215250e+05  \n",
       "mean        0.001693      13.383042  7.971063e+06     261.135903  9.577244e+03  \n",
       "std         0.044888       7.300182  2.611523e+06    3246.962907  7.146156e+04  \n",
       "min         0.000000       0.000000  1.007024e+06       0.000000  0.000000e+00  \n",
       "25%         0.000000      11.000000  6.007029e+06       0.000000  0.000000e+00  \n",
       "50%         0.000000      11.000000  8.033011e+06       0.000000  0.000000e+00  \n",
       "75%         0.000000      14.000000  1.018101e+07       0.000000  0.000000e+00  \n",
       "max         5.000000      87.000000  1.307202e+07  525241.000000  5.239700e+06  "
      ]
     },
     "execution_count": 5,
     "metadata": {},
     "output_type": "execute_result"
    }
   ],
   "source": [
    "df.describe()"
   ]
  },
  {
   "cell_type": "code",
   "execution_count": 6,
   "metadata": {},
   "outputs": [],
   "source": [
    "# Remove time from date time string\n",
    "df['INCDATE']=df['INCDATE'].str[:10]\n",
    "\n",
    "# Add year month and day columns\n",
    "df[['YEAR', 'MONTH','DAY']]=df[\"INCDATE\"].str.split(\"/\", expand=True)\n",
    "\n",
    "# Transform String into DateTime\n",
    "df['INCDATE'] = pd.to_datetime(df['INCDATE'])\n",
    "\n",
    "# Get day of the week\n",
    "# Monday=0, Sunday=6.\n",
    "df['DAYOFWEEK'] = df['INCDATE'].dt.dayofweek"
   ]
  },
  {
   "cell_type": "code",
   "execution_count": 7,
   "metadata": {},
   "outputs": [],
   "source": [
    "# Droping unnesesary columns\n",
    "dropcol_list = ['X', 'Y', 'INCKEY', \n",
    "                'COLDETKEY', 'REPORTNO', 'EXCEPTRSNCODE', \n",
    "                'EXCEPTRSNDESC', 'STATUS', 'INTKEY', 'INCDATE',\n",
    "                'INCDTTM', 'SDOT_COLCODE', 'SDOT_COLDESC', \n",
    "                'SDOTCOLNUM', 'ST_COLCODE', 'ST_COLDESC', \n",
    "                'SEGLANEKEY', 'CROSSWALKKEY']\n",
    "df.drop(dropcol_list, axis=1, inplace = True)"
   ]
  },
  {
   "cell_type": "code",
   "execution_count": 29,
   "metadata": {},
   "outputs": [
    {
     "data": {
      "text/plain": [
       "<matplotlib.axes._subplots.AxesSubplot at 0x168391f6a60>"
      ]
     },
     "execution_count": 29,
     "metadata": {},
     "output_type": "execute_result"
    },
    {
     "data": {
      "image/png": "[encoded data removed]",
      "text/plain": [
       "<Figure size 432x288 with 1 Axes>"
      ]
     },
     "metadata": {
      "needs_background": "light"
     },
     "output_type": "display_data"
    }
   ],
   "source": [
    "# Number of incidents each year\n",
    "df.groupby('YEAR').size().plot.bar()"
   ]
  },
  {
   "cell_type": "code",
   "execution_count": 32,
   "metadata": {},
   "outputs": [
    {
     "data": {
      "text/plain": [
       "<matplotlib.axes._subplots.AxesSubplot at 0x16841633fa0>"
      ]
     },
     "execution_count": 32,
     "metadata": {},
     "output_type": "execute_result"
    },
    {
     "data": {
      "image/png": "[encoded data removed]",
      "text/plain": [
       "<Figure size 432x288 with 1 Axes>"
      ]
     },
     "metadata": {
      "needs_background": "light"
     },
     "output_type": "display_data"
    }
   ],
   "source": [
    "# Number of incidents by month\n",
    "df.groupby('MONTH').size().plot.bar()"
   ]
  },
  {
   "cell_type": "code",
   "execution_count": 35,
   "metadata": {},
   "outputs": [
    {
     "data": {
      "text/plain": [
       "<matplotlib.axes._subplots.AxesSubplot at 0x1683fe32580>"
      ]
     },
     "execution_count": 35,
     "metadata": {},
     "output_type": "execute_result"
    },
    {
     "data": {
      "image/png": "[encoded data removed]",
      "text/plain": [
       "<Figure size 432x288 with 1 Axes>"
      ]
     },
     "metadata": {
      "needs_background": "light"
     },
     "output_type": "display_data"
    }
   ],
   "source": [
    "# Number of incidents by day of the week\n",
    "# Monday=0, Sunday=6.\n",
    "df.groupby('DAYOFWEEK').size().plot.bar()"
   ]
  },
  {
   "cell_type": "code",
   "execution_count": 37,
   "metadata": {},
   "outputs": [
    {
     "data": {
      "text/plain": [
       "<matplotlib.axes._subplots.AxesSubplot at 0x1683f68c8b0>"
      ]
     },
     "execution_count": 37,
     "metadata": {},
     "output_type": "execute_result"
    },
    {
     "data": {
      "image/png": "[encoded data removed]",
      "text/plain": [
       "<Figure size 432x288 with 1 Axes>"
      ]
     },
     "metadata": {
      "needs_background": "light"
     },
     "output_type": "display_data"
    }
   ],
   "source": [
    "# Severity Code Distribution\n",
    "df.groupby('SEVERITYCODE').size().plot.bar()"
   ]
  },
  {
   "cell_type": "code",
   "execution_count": 38,
   "metadata": {},
   "outputs": [
    {
     "data": {
      "text/plain": [
       "SEVERITYCODE\n",
       "0      21615\n",
       "1     137671\n",
       "2      58783\n",
       "2b      3105\n",
       "3        350\n",
       "dtype: int64"
      ]
     },
     "execution_count": 38,
     "metadata": {},
     "output_type": "execute_result"
    }
   ],
   "source": [
    "# Severity Code Distribution qty\n",
    "df.groupby('SEVERITYCODE').size()"
   ]
  },
  {
   "cell_type": "code",
   "execution_count": 40,
   "metadata": {},
   "outputs": [
    {
     "name": "stdout",
     "output_type": "stream",
     "text": [
      "C:\\Users\\Chris\\anaconda3\\python.exe\n"
     ]
    }
   ],
   "source": [
    "import sys\n",
    "print(sys.executable)"
   ]
  },
  {
   "cell_type": "code",
   "execution_count": 43,
   "metadata": {},
   "outputs": [
    {
     "name": "stdout",
     "output_type": "stream",
     "text": [
      "Collecting wordcloud\n",
      "  Downloading wordcloud-1.8.0-cp38-cp38-win_amd64.whl (159 kB)\n",
      "Requirement already satisfied: matplotlib in c:\\users\\chris\\anaconda3\\lib\\site-packages (from wordcloud) (3.2.2)\n",
      "Requirement already satisfied: pillow in c:\\users\\chris\\anaconda3\\lib\\site-packages (from wordcloud) (7.2.0)\n",
      "Requirement already satisfied: numpy>=1.6.1 in c:\\users\\chris\\anaconda3\\lib\\site-packages (from wordcloud) (1.18.5)\n",
      "Requirement already satisfied: cycler>=0.10 in c:\\users\\chris\\anaconda3\\lib\\site-packages (from matplotlib->wordcloud) (0.10.0)\n",
      "Requirement already satisfied: pyparsing!=2.0.4,!=2.1.2,!=2.1.6,>=2.0.1 in c:\\users\\chris\\anaconda3\\lib\\site-packages (from matplotlib->wordcloud) (2.4.7)\n",
      "Requirement already satisfied: python-dateutil>=2.1 in c:\\users\\chris\\anaconda3\\lib\\site-packages (from matplotlib->wordcloud) (2.8.1)\n",
      "Requirement already satisfied: kiwisolver>=1.0.1 in c:\\users\\chris\\anaconda3\\lib\\site-packages (from matplotlib->wordcloud) (1.2.0)\n",
      "Requirement already satisfied: six in c:\\users\\chris\\anaconda3\\lib\\site-packages (from cycler>=0.10->matplotlib->wordcloud) (1.15.0)\n",
      "Installing collected packages: wordcloud\n",
      "Successfully installed wordcloud-1.8.0\n"
     ]
    }
   ],
   "source": [
    "! C:\\Users\\Chris\\anaconda3\\python.exe -m pip install wordcloud"
   ]
  },
  {
   "cell_type": "code",
   "execution_count": 56,
   "metadata": {},
   "outputs": [
    {
     "name": "stderr",
     "output_type": "stream",
     "text": [
      "[nltk_data] Downloading package stopwords to\n",
      "[nltk_data]     C:\\Users\\Chris\\AppData\\Roaming\\nltk_data...\n",
      "[nltk_data]   Package stopwords is already up-to-date!\n",
      "[nltk_data] Downloading package punkt to\n",
      "[nltk_data]     C:\\Users\\Chris\\AppData\\Roaming\\nltk_data...\n",
      "[nltk_data]   Unzipping tokenizers\\punkt.zip.\n"
     ]
    }
   ],
   "source": [
    "import nltk\n",
    "nltk.download('stopwords')\n",
    "nltk.download('punkt')\n",
    "from wordcloud import WordCloud, ImageColorGenerator, STOPWORDS\n",
    "from nltk.corpus import stopwords\n",
    "from nltk.tokenize import word_tokenize\n"
   ]
  },
  {
   "cell_type": "code",
   "execution_count": 50,
   "metadata": {},
   "outputs": [
    {
     "data": {
      "text/plain": [
       "OBJECTID            int64\n",
       "ADDRTYPE           object\n",
       "LOCATION           object\n",
       "SEVERITYCODE       object\n",
       "SEVERITYDESC       object\n",
       "COLLISIONTYPE      object\n",
       "PERSONCOUNT         int64\n",
       "PEDCOUNT            int64\n",
       "PEDCYLCOUNT         int64\n",
       "VEHCOUNT            int64\n",
       "INJURIES            int64\n",
       "SERIOUSINJURIES     int64\n",
       "FATALITIES          int64\n",
       "JUNCTIONTYPE       object\n",
       "INATTENTIONIND     object\n",
       "UNDERINFL          object\n",
       "WEATHER            object\n",
       "ROADCOND           object\n",
       "LIGHTCOND          object\n",
       "PEDROWNOTGRNT      object\n",
       "SPEEDING           object\n",
       "HITPARKEDCAR       object\n",
       "YEAR               object\n",
       "MONTH              object\n",
       "DAY                object\n",
       "DAYOFWEEK           int64\n",
       "dtype: object"
      ]
     },
     "execution_count": 50,
     "metadata": {},
     "output_type": "execute_result"
    }
   ],
   "source": [
    "df.dtypes"
   ]
  },
  {
   "cell_type": "code",
   "execution_count": 59,
   "metadata": {},
   "outputs": [
    {
     "name": "stdout",
     "output_type": "stream",
     "text": [
      "0            AURORA AVE N BETWEEN N 117TH PL AND N 125TH ST\n",
      "1          35TH AVE SW BETWEEN SW MORGAN ST AND SW HOLLY ST\n",
      "2                                3RD AVE NW AND NW 100TH ST\n",
      "3                        M L KING JR WAY S AND S JACKSON ST\n",
      "4               W EWING ST BETWEEN 6TH AVE W AND W EWING PL\n",
      "                                ...                        \n",
      "221520    DELRIDGE WAY SW BETWEEN SW ANDOVER ST AND SW D...\n",
      "221521    NE NORTHLAKE PL BETWEEN PASADENA PL NE AND 7TH...\n",
      "221522      48TH AVE S BETWEEN S GARDEN ST AND S OTHELLO ST\n",
      "221523                               2ND AVE AND BATTERY ST\n",
      "221524      15TH AVE E BETWEEN E DENNY WAY AND E JOHN SR ST\n",
      "Name: LOCATION, Length: 221525, dtype: object\n"
     ]
    },
    {
     "data": {
      "image/png": "[encoded data removed]",
      "text/plain": [
       "<Figure size 720x720 with 1 Axes>"
      ]
     },
     "metadata": {
      "needs_background": "light"
     },
     "output_type": "display_data"
    }
   ],
   "source": [
    "words = \"\".join(str(df['LOCATION']))\n",
    "print(words)\n",
    "\n",
    "def punctuation_stop(text):\n",
    "    \"\"\"remove punctuation and stop words\"\"\"\n",
    "    filtered = []\n",
    "    stop_words = set(stopwords.words('english'))\n",
    "    word_tokens = word_tokenize(text)\n",
    "    for w in word_tokens:\n",
    "        if w not in stop_words and w.isalpha():\n",
    "            filtered.append(w.lower())\n",
    "    return filtered\n",
    "\n",
    "\n",
    "words_filtered = punctuation_stop(words)\n",
    "\n",
    "text = \" \".join([ele for ele in words_filtered])\n",
    "\n",
    "wc= WordCloud(background_color=\"white\", random_state=1,stopwords=STOPWORDS, max_words = 2000, width =800, height = 1500)\n",
    "wc.generate(text)\n",
    "\n",
    "plt.figure(figsize=[10,10])\n",
    "plt.imshow(wc,interpolation=\"bilinear\")\n",
    "plt.axis('off')\n",
    "plt.show()"
   ]
  },
  {
   "cell_type": "code",
   "execution_count": 46,
   "metadata": {},
   "outputs": [
    {
     "data": {
      "text/plain": [
       "OBJECTID           0.000000\n",
       "ADDRTYPE           0.016757\n",
       "LOCATION           0.020720\n",
       "SEVERITYCODE       0.000005\n",
       "SEVERITYDESC       0.000000\n",
       "COLLISIONTYPE      0.118781\n",
       "PERSONCOUNT        0.000000\n",
       "PEDCOUNT           0.000000\n",
       "PEDCYLCOUNT        0.000000\n",
       "VEHCOUNT           0.000000\n",
       "INJURIES           0.000000\n",
       "SERIOUSINJURIES    0.000000\n",
       "FATALITIES         0.000000\n",
       "JUNCTIONTYPE       0.054053\n",
       "INATTENTIONIND     0.863726\n",
       "UNDERINFL          0.118691\n",
       "WEATHER            0.119639\n",
       "ROADCOND           0.119273\n",
       "LIGHTCOND          0.120041\n",
       "PEDROWNOTGRNT      0.976549\n",
       "SPEEDING           0.955179\n",
       "HITPARKEDCAR       0.000000\n",
       "YEAR               0.000000\n",
       "MONTH              0.000000\n",
       "DAY                0.000000\n",
       "DAYOFWEEK          0.000000\n",
       "dtype: float64"
      ]
     },
     "execution_count": 46,
     "metadata": {},
     "output_type": "execute_result"
    }
   ],
   "source": [
    "# Locate NA values and encode, replace or drop\n",
    "df.isna().sum()/len(df)"
   ]
  },
  {
   "cell_type": "code",
   "execution_count": null,
   "metadata": {},
   "outputs": [],
   "source": []
  }
 ],
 "metadata": {
  "kernelspec": {
   "display_name": "Python 3",
   "language": "python",
   "name": "python3"
  },
  "language_info": {
   "codemirror_mode": {
    "name": "ipython",
    "version": 3
   },
   "file_extension": ".py",
   "mimetype": "text/x-python",
   "name": "python",
   "nbconvert_exporter": "python",
   "pygments_lexer": "ipython3",
   "version": "3.8.3"
  }
 },
 "nbformat": 4,
 "nbformat_minor": 4
}
